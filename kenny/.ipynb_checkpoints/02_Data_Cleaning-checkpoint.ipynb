{
  "cells": [
    {
      "cell_type": "code",
      "execution_count": 1,
      "metadata": {
        "collapsed": true,
        "pycharm": {
          "is_executing": false
        }
      },
      "outputs": [],
      "source": "import pandas as pd"
    },
    {
      "cell_type": "code",
      "execution_count": 17,
      "outputs": [
        {
          "name": "stderr",
          "text": [
            "/Users/newtonsspawn/anaconda3/envs/dsi/lib/python3.6/site-packages/ipykernel_launcher.py:4: ParserWarning: Falling back to the \u0027python\u0027 engine because the \u0027c\u0027 engine does not support regex separators (separators \u003e 1 char and different from \u0027\\s+\u0027 are interpreted as regex); you can avoid this warning by specifying engine\u003d\u0027python\u0027.\n  after removing the cwd from sys.path.\n"
          ],
          "output_type": "stream"
        },
        {
          "data": {
            "text/plain": "         username              date  retweets  favorites  \\\n0  thefloridakeys  2017-09-23 23:47        50        193   \n1            nbc6  2017-09-23 20:26        16         39   \n2           FOXLA  2017-09-23 18:00        12         37   \n3             EPA  2017-09-23 01:58        20         33   \n4       DailyMail  2017-09-22 23:38        25         56   \n\n                                                text  geo mentions hashtags  \\\n0  \"We pause a minute during our recovery efforts...  NaN      NaN      NaN   \n1  \"In the midst of the Irma-related damage recov...  NaN      NaN      NaN   \n2  \"Dehydrated deer found in a #irma damaged Flor...  NaN      NaN    #irma   \n3  \"Our response teams are in the Florida Keys wi...  NaN    @USCG    #Irma   \n4  \"Florida firefighter gives dehydrated deer wat...  NaN      NaN      NaN   \n\n                     id                                          permalink  \n0  \"911738860207448064\"  https://twitter.com/thefloridakeys/status/9117...  \n1  \"911688220353720323\"  https://twitter.com/nbc6/status/91168822035372...  \n2  \"911651387330760704\"  https://twitter.com/FOXLA/status/9116513873307...  \n3  \"911409283958476800\"  https://twitter.com/EPA/status/911409283958476800  \n4  \"911374252577878017\"  https://twitter.com/DailyMail/status/911374252...  ",
            "text/html": "\u003cdiv\u003e\n\u003cstyle scoped\u003e\n    .dataframe tbody tr th:only-of-type {\n        vertical-align: middle;\n    }\n\n    .dataframe tbody tr th {\n        vertical-align: top;\n    }\n\n    .dataframe thead th {\n        text-align: right;\n    }\n\u003c/style\u003e\n\u003ctable border\u003d\"1\" class\u003d\"dataframe\"\u003e\n  \u003cthead\u003e\n    \u003ctr style\u003d\"text-align: right;\"\u003e\n      \u003cth\u003e\u003c/th\u003e\n      \u003cth\u003eusername\u003c/th\u003e\n      \u003cth\u003edate\u003c/th\u003e\n      \u003cth\u003eretweets\u003c/th\u003e\n      \u003cth\u003efavorites\u003c/th\u003e\n      \u003cth\u003etext\u003c/th\u003e\n      \u003cth\u003egeo\u003c/th\u003e\n      \u003cth\u003ementions\u003c/th\u003e\n      \u003cth\u003ehashtags\u003c/th\u003e\n      \u003cth\u003eid\u003c/th\u003e\n      \u003cth\u003epermalink\u003c/th\u003e\n    \u003c/tr\u003e\n  \u003c/thead\u003e\n  \u003ctbody\u003e\n    \u003ctr\u003e\n      \u003cth\u003e0\u003c/th\u003e\n      \u003ctd\u003ethefloridakeys\u003c/td\u003e\n      \u003ctd\u003e2017-09-23 23:47\u003c/td\u003e\n      \u003ctd\u003e50\u003c/td\u003e\n      \u003ctd\u003e193\u003c/td\u003e\n      \u003ctd\u003e\"We pause a minute during our recovery efforts...\u003c/td\u003e\n      \u003ctd\u003eNaN\u003c/td\u003e\n      \u003ctd\u003eNaN\u003c/td\u003e\n      \u003ctd\u003eNaN\u003c/td\u003e\n      \u003ctd\u003e\"911738860207448064\"\u003c/td\u003e\n      \u003ctd\u003ehttps://twitter.com/thefloridakeys/status/9117...\u003c/td\u003e\n    \u003c/tr\u003e\n    \u003ctr\u003e\n      \u003cth\u003e1\u003c/th\u003e\n      \u003ctd\u003enbc6\u003c/td\u003e\n      \u003ctd\u003e2017-09-23 20:26\u003c/td\u003e\n      \u003ctd\u003e16\u003c/td\u003e\n      \u003ctd\u003e39\u003c/td\u003e\n      \u003ctd\u003e\"In the midst of the Irma-related damage recov...\u003c/td\u003e\n      \u003ctd\u003eNaN\u003c/td\u003e\n      \u003ctd\u003eNaN\u003c/td\u003e\n      \u003ctd\u003eNaN\u003c/td\u003e\n      \u003ctd\u003e\"911688220353720323\"\u003c/td\u003e\n      \u003ctd\u003ehttps://twitter.com/nbc6/status/91168822035372...\u003c/td\u003e\n    \u003c/tr\u003e\n    \u003ctr\u003e\n      \u003cth\u003e2\u003c/th\u003e\n      \u003ctd\u003eFOXLA\u003c/td\u003e\n      \u003ctd\u003e2017-09-23 18:00\u003c/td\u003e\n      \u003ctd\u003e12\u003c/td\u003e\n      \u003ctd\u003e37\u003c/td\u003e\n      \u003ctd\u003e\"Dehydrated deer found in a #irma damaged Flor...\u003c/td\u003e\n      \u003ctd\u003eNaN\u003c/td\u003e\n      \u003ctd\u003eNaN\u003c/td\u003e\n      \u003ctd\u003e#irma\u003c/td\u003e\n      \u003ctd\u003e\"911651387330760704\"\u003c/td\u003e\n      \u003ctd\u003ehttps://twitter.com/FOXLA/status/9116513873307...\u003c/td\u003e\n    \u003c/tr\u003e\n    \u003ctr\u003e\n      \u003cth\u003e3\u003c/th\u003e\n      \u003ctd\u003eEPA\u003c/td\u003e\n      \u003ctd\u003e2017-09-23 01:58\u003c/td\u003e\n      \u003ctd\u003e20\u003c/td\u003e\n      \u003ctd\u003e33\u003c/td\u003e\n      \u003ctd\u003e\"Our response teams are in the Florida Keys wi...\u003c/td\u003e\n      \u003ctd\u003eNaN\u003c/td\u003e\n      \u003ctd\u003e@USCG\u003c/td\u003e\n      \u003ctd\u003e#Irma\u003c/td\u003e\n      \u003ctd\u003e\"911409283958476800\"\u003c/td\u003e\n      \u003ctd\u003ehttps://twitter.com/EPA/status/911409283958476800\u003c/td\u003e\n    \u003c/tr\u003e\n    \u003ctr\u003e\n      \u003cth\u003e4\u003c/th\u003e\n      \u003ctd\u003eDailyMail\u003c/td\u003e\n      \u003ctd\u003e2017-09-22 23:38\u003c/td\u003e\n      \u003ctd\u003e25\u003c/td\u003e\n      \u003ctd\u003e56\u003c/td\u003e\n      \u003ctd\u003e\"Florida firefighter gives dehydrated deer wat...\u003c/td\u003e\n      \u003ctd\u003eNaN\u003c/td\u003e\n      \u003ctd\u003eNaN\u003c/td\u003e\n      \u003ctd\u003eNaN\u003c/td\u003e\n      \u003ctd\u003e\"911374252577878017\"\u003c/td\u003e\n      \u003ctd\u003ehttps://twitter.com/DailyMail/status/911374252...\u003c/td\u003e\n    \u003c/tr\u003e\n  \u003c/tbody\u003e\n\u003c/table\u003e\n\u003c/div\u003e"
          },
          "metadata": {},
          "output_type": "execute_result",
          "execution_count": 17
        }
      ],
      "source": "base_name \u003d \u0027hurricane_irma_tweets\u0027\nfile_name \u003d \u0027\u0027.join([\u0027../data/\u0027, base_name, \u0027.csv\u0027])\n\ndf \u003d pd.read_csv(file_name, sep\u003d\u0027;;\u0027)\ndf.head()",
      "metadata": {
        "pycharm": {
          "metadata": false,
          "name": "#%%\n",
          "is_executing": false
        }
      }
    },
    {
      "cell_type": "code",
      "execution_count": 10,
      "outputs": [
        {
          "name": "stdout",
          "text": [
            "hurricane_irma_tweets.csv\r\n"
          ],
          "output_type": "stream"
        }
      ],
      "source": "",
      "metadata": {
        "pycharm": {
          "metadata": false,
          "name": "#%%\n",
          "is_executing": false
        }
      }
    }
  ],
  "metadata": {
    "language_info": {
      "codemirror_mode": {
        "name": "ipython",
        "version": 2
      },
      "file_extension": ".py",
      "mimetype": "text/x-python",
      "name": "python",
      "nbconvert_exporter": "python",
      "pygments_lexer": "ipython2",
      "version": "2.7.6"
    },
    "kernelspec": {
      "name": "pycharm-f6d6c855",
      "language": "python",
      "display_name": "PyCharm (Data Science Immersive (GA))"
    }
  },
  "nbformat": 4,
  "nbformat_minor": 0
}