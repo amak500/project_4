{
 "cells": [
  {
   "cell_type": "code",
   "execution_count": 1,
   "metadata": {},
   "outputs": [],
   "source": [
    "import pandas as pd\n",
    "import numpy as np\n",
    "import matplotlib.pyplot as plt\n",
    "import pickle\n",
    "import nltk\n",
    "from nltk.corpus import stopwords\n",
    "from nltk.stem import WordNetLemmatizer\n",
    "from sklearn.model_selection import train_test_split\n",
    "from sklearn.feature_extraction.text import CountVectorizer, TfidfVectorizer\n",
    "from sklearn.model_selection import train_test_split, GridSearchCV\n",
    "\n",
    "%matplotlib inline"
   ]
  },
  {
   "cell_type": "code",
   "execution_count": 2,
   "metadata": {},
   "outputs": [],
   "source": [
    "combined_pre = pd.read_csv('../assets/combined_pre_classed.csv', index_col= 0)\n",
    "combined_post = pd.read_csv('../assets/combined_post_classed.csv', index_col=0)"
   ]
  },
  {
   "cell_type": "code",
   "execution_count": 3,
   "metadata": {},
   "outputs": [
    {
     "data": {
      "text/html": [
       "<div>\n",
       "<style scoped>\n",
       "    .dataframe tbody tr th:only-of-type {\n",
       "        vertical-align: middle;\n",
       "    }\n",
       "\n",
       "    .dataframe tbody tr th {\n",
       "        vertical-align: top;\n",
       "    }\n",
       "\n",
       "    .dataframe thead th {\n",
       "        text-align: right;\n",
       "    }\n",
       "</style>\n",
       "<table border=\"1\" class=\"dataframe\">\n",
       "  <thead>\n",
       "    <tr style=\"text-align: right;\">\n",
       "      <th></th>\n",
       "      <th>text</th>\n",
       "      <th>disaster</th>\n",
       "    </tr>\n",
       "  </thead>\n",
       "  <tbody>\n",
       "    <tr>\n",
       "      <th>0</th>\n",
       "      <td>live in  rd ward at peggy park giving bacc to...</td>\n",
       "      <td>0</td>\n",
       "    </tr>\n",
       "    <tr>\n",
       "      <th>1</th>\n",
       "      <td>accident cleared in  bellaire on     w lp nb ...</td>\n",
       "      <td>0</td>\n",
       "    </tr>\n",
       "    <tr>\n",
       "      <th>2</th>\n",
       "      <td>a nice cold saintarnoldbrewing art car ipa af...</td>\n",
       "      <td>0</td>\n",
       "    </tr>\n",
       "    <tr>\n",
       "      <th>3</th>\n",
       "      <td>where to shop  sale of unique items helps aid...</td>\n",
       "      <td>1</td>\n",
       "    </tr>\n",
       "    <tr>\n",
       "      <th>4</th>\n",
       "      <td>aerial tour shows devastation of epic floodin...</td>\n",
       "      <td>1</td>\n",
       "    </tr>\n",
       "  </tbody>\n",
       "</table>\n",
       "</div>"
      ],
      "text/plain": [
       "                                                text  disaster\n",
       "0   live in  rd ward at peggy park giving bacc to...         0\n",
       "1   accident cleared in  bellaire on     w lp nb ...         0\n",
       "2   a nice cold saintarnoldbrewing art car ipa af...         0\n",
       "3   where to shop  sale of unique items helps aid...         1\n",
       "4   aerial tour shows devastation of epic floodin...         1"
      ]
     },
     "execution_count": 3,
     "metadata": {},
     "output_type": "execute_result"
    }
   ],
   "source": [
    "combined_post.head()"
   ]
  },
  {
   "cell_type": "code",
   "execution_count": 4,
   "metadata": {},
   "outputs": [
    {
     "data": {
      "text/html": [
       "<div>\n",
       "<style scoped>\n",
       "    .dataframe tbody tr th:only-of-type {\n",
       "        vertical-align: middle;\n",
       "    }\n",
       "\n",
       "    .dataframe tbody tr th {\n",
       "        vertical-align: top;\n",
       "    }\n",
       "\n",
       "    .dataframe thead th {\n",
       "        text-align: right;\n",
       "    }\n",
       "</style>\n",
       "<table border=\"1\" class=\"dataframe\">\n",
       "  <thead>\n",
       "    <tr style=\"text-align: right;\">\n",
       "      <th></th>\n",
       "      <th>text</th>\n",
       "      <th>disaster</th>\n",
       "    </tr>\n",
       "  </thead>\n",
       "  <tbody>\n",
       "    <tr>\n",
       "      <th>0</th>\n",
       "      <td>baytown pd  man sought after teen suspect kil...</td>\n",
       "      <td>0</td>\n",
       "    </tr>\n",
       "    <tr>\n",
       "      <th>1</th>\n",
       "      <td>amy st  houston  tx</td>\n",
       "      <td>0</td>\n",
       "    </tr>\n",
       "    <tr>\n",
       "      <th>2</th>\n",
       "      <td>crazy about this sisterhood  stephen f  austi...</td>\n",
       "      <td>0</td>\n",
       "    </tr>\n",
       "    <tr>\n",
       "      <th>3</th>\n",
       "      <td>drinking a steam punk rousing steam lager by ...</td>\n",
       "      <td>0</td>\n",
       "    </tr>\n",
       "    <tr>\n",
       "      <th>4</th>\n",
       "      <td>reposted with the right cosplayer this time  ...</td>\n",
       "      <td>0</td>\n",
       "    </tr>\n",
       "  </tbody>\n",
       "</table>\n",
       "</div>"
      ],
      "text/plain": [
       "                                                text  disaster\n",
       "0   baytown pd  man sought after teen suspect kil...         0\n",
       "1              amy st  houston  tx                           0\n",
       "2   crazy about this sisterhood  stephen f  austi...         0\n",
       "3   drinking a steam punk rousing steam lager by ...         0\n",
       "4   reposted with the right cosplayer this time  ...         0"
      ]
     },
     "execution_count": 4,
     "metadata": {},
     "output_type": "execute_result"
    }
   ],
   "source": [
    "combined_pre.head()"
   ]
  },
  {
   "cell_type": "code",
   "execution_count": 5,
   "metadata": {},
   "outputs": [
    {
     "data": {
      "text/plain": [
       "0    44896\n",
       "1    22231\n",
       "Name: disaster, dtype: int64"
      ]
     },
     "execution_count": 5,
     "metadata": {},
     "output_type": "execute_result"
    }
   ],
   "source": [
    "combined_post.disaster.value_counts()"
   ]
  },
  {
   "cell_type": "code",
   "execution_count": 6,
   "metadata": {
    "pycharm": {
     "is_executing": false,
     "metadata": false,
     "name": "#%%\n"
    }
   },
   "outputs": [
    {
     "data": {
      "text/plain": [
       "['earthquake', 'hurricane', 'fire', 'emergency', 'help']"
      ]
     },
     "execution_count": 6,
     "metadata": {},
     "output_type": "execute_result"
    }
   ],
   "source": [
    "disaster_keywords = []\n",
    "with open('../assets/disaster_keywords.txt') as f:\n",
    "    for phrase in f:\n",
    "        disaster_keywords.append(phrase.strip())\n",
    "disaster_keywords[:5]"
   ]
  },
  {
   "cell_type": "code",
   "execution_count": 7,
   "metadata": {},
   "outputs": [],
   "source": [
    "add_stop = ['rt', 'twitter', 'com', 'net', 'carr', 'irma', 'harvey',\n",
    "            'maria', 'carrfire', 'camp', 'campfire', 'woolsey', \n",
    "            'woolseyfire', 'prague', 'north', 'northbay', 'news',\n",
    "            'hurricaneirma', 'hurricaneharvey', 'hurricanemaria',\n",
    "            'headline', 'breaking']"
   ]
  },
  {
   "cell_type": "code",
   "execution_count": 8,
   "metadata": {},
   "outputs": [],
   "source": [
    "disaster_set = set(disaster_keywords)\n",
    "disaster_list = list(disaster_set)"
   ]
  },
  {
   "cell_type": "code",
   "execution_count": 9,
   "metadata": {},
   "outputs": [],
   "source": [
    "disaster_list.extend(add_stop)"
   ]
  },
  {
   "cell_type": "code",
   "execution_count": 10,
   "metadata": {},
   "outputs": [],
   "source": [
    "stopwords = nltk.corpus.stopwords.words('english')"
   ]
  },
  {
   "cell_type": "code",
   "execution_count": 11,
   "metadata": {},
   "outputs": [],
   "source": [
    "stopwords.extend(disaster_list)"
   ]
  },
  {
   "cell_type": "code",
   "execution_count": 12,
   "metadata": {},
   "outputs": [],
   "source": [
    "combined_df = pd.concat([combined_pre, \n",
    "                        combined_post], \n",
    "                       ignore_index=True)"
   ]
  },
  {
   "cell_type": "code",
   "execution_count": 13,
   "metadata": {},
   "outputs": [
    {
     "data": {
      "text/plain": [
       "(98550, 2)"
      ]
     },
     "execution_count": 13,
     "metadata": {},
     "output_type": "execute_result"
    }
   ],
   "source": [
    "combined_df.shape"
   ]
  },
  {
   "cell_type": "code",
   "execution_count": 14,
   "metadata": {},
   "outputs": [
    {
     "data": {
      "text/html": [
       "<div>\n",
       "<style scoped>\n",
       "    .dataframe tbody tr th:only-of-type {\n",
       "        vertical-align: middle;\n",
       "    }\n",
       "\n",
       "    .dataframe tbody tr th {\n",
       "        vertical-align: top;\n",
       "    }\n",
       "\n",
       "    .dataframe thead th {\n",
       "        text-align: right;\n",
       "    }\n",
       "</style>\n",
       "<table border=\"1\" class=\"dataframe\">\n",
       "  <thead>\n",
       "    <tr style=\"text-align: right;\">\n",
       "      <th></th>\n",
       "      <th>text</th>\n",
       "      <th>disaster</th>\n",
       "    </tr>\n",
       "  </thead>\n",
       "  <tbody>\n",
       "    <tr>\n",
       "      <th>0</th>\n",
       "      <td>baytown pd  man sought after teen suspect kil...</td>\n",
       "      <td>0</td>\n",
       "    </tr>\n",
       "    <tr>\n",
       "      <th>1</th>\n",
       "      <td>amy st  houston  tx</td>\n",
       "      <td>0</td>\n",
       "    </tr>\n",
       "  </tbody>\n",
       "</table>\n",
       "</div>"
      ],
      "text/plain": [
       "                                                text  disaster\n",
       "0   baytown pd  man sought after teen suspect kil...         0\n",
       "1              amy st  houston  tx                           0"
      ]
     },
     "execution_count": 14,
     "metadata": {},
     "output_type": "execute_result"
    }
   ],
   "source": [
    "combined_df.head(2)"
   ]
  },
  {
   "cell_type": "code",
   "execution_count": 15,
   "metadata": {},
   "outputs": [
    {
     "data": {
      "text/plain": [
       "0    0.774419\n",
       "1    0.225581\n",
       "Name: disaster, dtype: float64"
      ]
     },
     "execution_count": 15,
     "metadata": {},
     "output_type": "execute_result"
    }
   ],
   "source": [
    "combined_df.disaster.value_counts(normalize=True)"
   ]
  },
  {
   "cell_type": "code",
   "execution_count": 16,
   "metadata": {},
   "outputs": [],
   "source": [
    "y = combined_df['disaster']\n",
    "\n",
    "# Set X as text column.\n",
    "X = combined_df['text']"
   ]
  },
  {
   "cell_type": "code",
   "execution_count": 40,
   "metadata": {},
   "outputs": [],
   "source": [
    "tfidf = TfidfVectorizer(stop_words = stopwords, \n",
    "                        max_df=0.95, \n",
    "                        min_df=5, max_features=10000)"
   ]
  },
  {
   "cell_type": "code",
   "execution_count": 41,
   "metadata": {},
   "outputs": [
    {
     "name": "stderr",
     "output_type": "stream",
     "text": [
      "/Users/jameslee/anaconda3/lib/python3.6/site-packages/sklearn/feature_extraction/text.py:301: UserWarning: Your stop_words may be inconsistent with your preprocessing. Tokenizing the stop words generated tokens ['beaufort', 'bermuda', 'dust', 'high', 'low', 'pressure', 'richter', 'scale', 'triangle', 'vane', 'violent'] not in stop_words.\n",
      "  'stop_words.' % sorted(inconsistent))\n"
     ]
    }
   ],
   "source": [
    "combined_tfidf = tfidf.fit_transform(X)"
   ]
  },
  {
   "cell_type": "code",
   "execution_count": 42,
   "metadata": {},
   "outputs": [],
   "source": [
    "combined_df_tfidf = pd.SparseDataFrame(combined_tfidf,\n",
    "                             columns=tfidf.get_feature_names())"
   ]
  },
  {
   "cell_type": "code",
   "execution_count": 43,
   "metadata": {},
   "outputs": [
    {
     "data": {
      "text/plain": [
       "(98550, 10000)"
      ]
     },
     "execution_count": 43,
     "metadata": {},
     "output_type": "execute_result"
    }
   ],
   "source": [
    "combined_df_tfidf.shape"
   ]
  },
  {
   "cell_type": "code",
   "execution_count": 44,
   "metadata": {},
   "outputs": [],
   "source": [
    "import sys"
   ]
  },
  {
   "cell_type": "code",
   "execution_count": 45,
   "metadata": {},
   "outputs": [
    {
     "data": {
      "text/plain": [
       "0.011253576000000001"
      ]
     },
     "execution_count": 45,
     "metadata": {},
     "output_type": "execute_result"
    }
   ],
   "source": [
    "sys.getsizeof(combined_df_tfidf) * 1e-9"
   ]
  },
  {
   "cell_type": "code",
   "execution_count": 46,
   "metadata": {},
   "outputs": [
    {
     "data": {
      "text/html": [
       "<div>\n",
       "<style scoped>\n",
       "    .dataframe tbody tr th:only-of-type {\n",
       "        vertical-align: middle;\n",
       "    }\n",
       "\n",
       "    .dataframe tbody tr th {\n",
       "        vertical-align: top;\n",
       "    }\n",
       "\n",
       "    .dataframe thead th {\n",
       "        text-align: right;\n",
       "    }\n",
       "</style>\n",
       "<table border=\"1\" class=\"dataframe\">\n",
       "  <thead>\n",
       "    <tr style=\"text-align: right;\">\n",
       "      <th></th>\n",
       "      <th>__</th>\n",
       "      <th>aa</th>\n",
       "      <th>aaa</th>\n",
       "      <th>aan</th>\n",
       "      <th>aaron</th>\n",
       "      <th>aaroncarter</th>\n",
       "      <th>ab</th>\n",
       "      <th>abandoned</th>\n",
       "      <th>abatido</th>\n",
       "      <th>abby</th>\n",
       "      <th>...</th>\n",
       "      <th>zswaggers</th>\n",
       "      <th>zswagtour</th>\n",
       "      <th>zt</th>\n",
       "      <th>zu</th>\n",
       "      <th>zumba</th>\n",
       "      <th>zv</th>\n",
       "      <th>zw</th>\n",
       "      <th>zx</th>\n",
       "      <th>zy</th>\n",
       "      <th>zz</th>\n",
       "    </tr>\n",
       "  </thead>\n",
       "  <tbody>\n",
       "    <tr>\n",
       "      <th>0</th>\n",
       "      <td>NaN</td>\n",
       "      <td>NaN</td>\n",
       "      <td>NaN</td>\n",
       "      <td>NaN</td>\n",
       "      <td>NaN</td>\n",
       "      <td>NaN</td>\n",
       "      <td>NaN</td>\n",
       "      <td>NaN</td>\n",
       "      <td>NaN</td>\n",
       "      <td>NaN</td>\n",
       "      <td>...</td>\n",
       "      <td>NaN</td>\n",
       "      <td>NaN</td>\n",
       "      <td>NaN</td>\n",
       "      <td>NaN</td>\n",
       "      <td>NaN</td>\n",
       "      <td>NaN</td>\n",
       "      <td>NaN</td>\n",
       "      <td>NaN</td>\n",
       "      <td>NaN</td>\n",
       "      <td>NaN</td>\n",
       "    </tr>\n",
       "    <tr>\n",
       "      <th>1</th>\n",
       "      <td>NaN</td>\n",
       "      <td>NaN</td>\n",
       "      <td>NaN</td>\n",
       "      <td>NaN</td>\n",
       "      <td>NaN</td>\n",
       "      <td>NaN</td>\n",
       "      <td>NaN</td>\n",
       "      <td>NaN</td>\n",
       "      <td>NaN</td>\n",
       "      <td>NaN</td>\n",
       "      <td>...</td>\n",
       "      <td>NaN</td>\n",
       "      <td>NaN</td>\n",
       "      <td>NaN</td>\n",
       "      <td>NaN</td>\n",
       "      <td>NaN</td>\n",
       "      <td>NaN</td>\n",
       "      <td>NaN</td>\n",
       "      <td>NaN</td>\n",
       "      <td>NaN</td>\n",
       "      <td>NaN</td>\n",
       "    </tr>\n",
       "    <tr>\n",
       "      <th>2</th>\n",
       "      <td>NaN</td>\n",
       "      <td>NaN</td>\n",
       "      <td>NaN</td>\n",
       "      <td>NaN</td>\n",
       "      <td>NaN</td>\n",
       "      <td>NaN</td>\n",
       "      <td>NaN</td>\n",
       "      <td>NaN</td>\n",
       "      <td>NaN</td>\n",
       "      <td>NaN</td>\n",
       "      <td>...</td>\n",
       "      <td>NaN</td>\n",
       "      <td>NaN</td>\n",
       "      <td>NaN</td>\n",
       "      <td>NaN</td>\n",
       "      <td>NaN</td>\n",
       "      <td>NaN</td>\n",
       "      <td>NaN</td>\n",
       "      <td>NaN</td>\n",
       "      <td>NaN</td>\n",
       "      <td>NaN</td>\n",
       "    </tr>\n",
       "    <tr>\n",
       "      <th>3</th>\n",
       "      <td>NaN</td>\n",
       "      <td>NaN</td>\n",
       "      <td>NaN</td>\n",
       "      <td>NaN</td>\n",
       "      <td>NaN</td>\n",
       "      <td>NaN</td>\n",
       "      <td>NaN</td>\n",
       "      <td>NaN</td>\n",
       "      <td>NaN</td>\n",
       "      <td>NaN</td>\n",
       "      <td>...</td>\n",
       "      <td>NaN</td>\n",
       "      <td>NaN</td>\n",
       "      <td>NaN</td>\n",
       "      <td>NaN</td>\n",
       "      <td>NaN</td>\n",
       "      <td>NaN</td>\n",
       "      <td>NaN</td>\n",
       "      <td>NaN</td>\n",
       "      <td>NaN</td>\n",
       "      <td>NaN</td>\n",
       "    </tr>\n",
       "    <tr>\n",
       "      <th>4</th>\n",
       "      <td>NaN</td>\n",
       "      <td>NaN</td>\n",
       "      <td>NaN</td>\n",
       "      <td>NaN</td>\n",
       "      <td>NaN</td>\n",
       "      <td>NaN</td>\n",
       "      <td>NaN</td>\n",
       "      <td>NaN</td>\n",
       "      <td>NaN</td>\n",
       "      <td>NaN</td>\n",
       "      <td>...</td>\n",
       "      <td>NaN</td>\n",
       "      <td>NaN</td>\n",
       "      <td>NaN</td>\n",
       "      <td>NaN</td>\n",
       "      <td>NaN</td>\n",
       "      <td>NaN</td>\n",
       "      <td>NaN</td>\n",
       "      <td>NaN</td>\n",
       "      <td>NaN</td>\n",
       "      <td>NaN</td>\n",
       "    </tr>\n",
       "  </tbody>\n",
       "</table>\n",
       "<p>5 rows × 10000 columns</p>\n",
       "</div>"
      ],
      "text/plain": [
       "   __  aa  aaa  aan  aaron  aaroncarter  ab  abandoned  abatido  abby  ...  \\\n",
       "0 NaN NaN  NaN  NaN    NaN          NaN NaN        NaN      NaN   NaN  ...   \n",
       "1 NaN NaN  NaN  NaN    NaN          NaN NaN        NaN      NaN   NaN  ...   \n",
       "2 NaN NaN  NaN  NaN    NaN          NaN NaN        NaN      NaN   NaN  ...   \n",
       "3 NaN NaN  NaN  NaN    NaN          NaN NaN        NaN      NaN   NaN  ...   \n",
       "4 NaN NaN  NaN  NaN    NaN          NaN NaN        NaN      NaN   NaN  ...   \n",
       "\n",
       "   zswaggers  zswagtour  zt  zu  zumba  zv  zw  zx  zy  zz  \n",
       "0        NaN        NaN NaN NaN    NaN NaN NaN NaN NaN NaN  \n",
       "1        NaN        NaN NaN NaN    NaN NaN NaN NaN NaN NaN  \n",
       "2        NaN        NaN NaN NaN    NaN NaN NaN NaN NaN NaN  \n",
       "3        NaN        NaN NaN NaN    NaN NaN NaN NaN NaN NaN  \n",
       "4        NaN        NaN NaN NaN    NaN NaN NaN NaN NaN NaN  \n",
       "\n",
       "[5 rows x 10000 columns]"
      ]
     },
     "execution_count": 46,
     "metadata": {},
     "output_type": "execute_result"
    }
   ],
   "source": [
    "combined_df_tfidf.head()"
   ]
  },
  {
   "cell_type": "code",
   "execution_count": null,
   "metadata": {},
   "outputs": [],
   "source": []
  },
  {
   "cell_type": "code",
   "execution_count": 47,
   "metadata": {},
   "outputs": [],
   "source": [
    "combined_df_tfidf.fillna(0, inplace=True)"
   ]
  },
  {
   "cell_type": "code",
   "execution_count": 48,
   "metadata": {},
   "outputs": [
    {
     "data": {
      "text/plain": [
       "florida       4685.343695\n",
       "keys          4240.856064\n",
       "pic           2697.864702\n",
       "california    1886.096603\n",
       "houston       1882.239273\n",
       "oaks          1818.031640\n",
       "thousand      1744.670375\n",
       "key           1317.453544\n",
       "shooting      1314.783959\n",
       "bar           1117.782834\n",
       "texas         1100.405905\n",
       "people         987.690306\n",
       "west           980.511379\n",
       "landfall       829.844184\n",
       "via            760.199409\n",
       "like           750.710482\n",
       "category       701.086951\n",
       "love           682.817763\n",
       "get            661.755415\n",
       "mass           661.354474\n",
       "dtype: float64"
      ]
     },
     "execution_count": 48,
     "metadata": {},
     "output_type": "execute_result"
    }
   ],
   "source": [
    "combined_df_tfidf.sum().sort_values(ascending = False).head(20)"
   ]
  },
  {
   "cell_type": "code",
   "execution_count": 49,
   "metadata": {},
   "outputs": [
    {
     "data": {
      "text/plain": [
       "(98550,)"
      ]
     },
     "execution_count": 49,
     "metadata": {},
     "output_type": "execute_result"
    }
   ],
   "source": [
    "y.shape"
   ]
  },
  {
   "cell_type": "code",
   "execution_count": 50,
   "metadata": {},
   "outputs": [
    {
     "data": {
      "text/plain": [
       "(98550, 10000)"
      ]
     },
     "execution_count": 50,
     "metadata": {},
     "output_type": "execute_result"
    }
   ],
   "source": [
    "combined_df_tfidf.shape"
   ]
  },
  {
   "cell_type": "code",
   "execution_count": 51,
   "metadata": {},
   "outputs": [],
   "source": [
    "combined_array = np.asarray(combined_df_tfidf)"
   ]
  },
  {
   "cell_type": "code",
   "execution_count": 54,
   "metadata": {},
   "outputs": [
    {
     "data": {
      "text/plain": [
       "112"
      ]
     },
     "execution_count": 54,
     "metadata": {},
     "output_type": "execute_result"
    }
   ],
   "source": [
    "sys.getsizeof(combined_array)"
   ]
  },
  {
   "cell_type": "code",
   "execution_count": 52,
   "metadata": {},
   "outputs": [
    {
     "data": {
      "text/plain": [
       "1.1200000000000001e-07"
      ]
     },
     "execution_count": 52,
     "metadata": {},
     "output_type": "execute_result"
    }
   ],
   "source": [
    "sys.getsizeof(combined_array) * 1e-9"
   ]
  },
  {
   "cell_type": "code",
   "execution_count": null,
   "metadata": {},
   "outputs": [],
   "source": [
    "# Train/test split our data.\n",
    "# X_train, X_test, y_train, y_test = train_test_split(X,\n",
    "#                                                     y,\n",
    "#                                                     test_size = 0.33,\n",
    "#                                                     random_state = 42)"
   ]
  },
  {
   "cell_type": "code",
   "execution_count": 55,
   "metadata": {},
   "outputs": [],
   "source": [
    "# Import PCA.\n",
    "from sklearn.decomposition import PCA"
   ]
  },
  {
   "cell_type": "code",
   "execution_count": 56,
   "metadata": {},
   "outputs": [],
   "source": [
    "# Instantiate PCA.\n",
    "pca = PCA(n_components=100)"
   ]
  },
  {
   "cell_type": "code",
   "execution_count": 57,
   "metadata": {},
   "outputs": [
    {
     "data": {
      "text/plain": [
       "(98550, 10000)"
      ]
     },
     "execution_count": 57,
     "metadata": {},
     "output_type": "execute_result"
    }
   ],
   "source": [
    "pd.DataFrame(combined_array).shape"
   ]
  },
  {
   "cell_type": "code",
   "execution_count": null,
   "metadata": {},
   "outputs": [],
   "source": [
    "# Fit PCA on the training data.\n",
    "Z_combined = pca.fit_transform(combined_array)\n",
    "\n",
    "# n_component will default to number of features in this case 9999 features."
   ]
  },
  {
   "cell_type": "code",
   "execution_count": null,
   "metadata": {},
   "outputs": [],
   "source": []
  },
  {
   "cell_type": "code",
   "execution_count": 38,
   "metadata": {},
   "outputs": [
    {
     "data": {
      "text/html": [
       "<div>\n",
       "<style scoped>\n",
       "    .dataframe tbody tr th:only-of-type {\n",
       "        vertical-align: middle;\n",
       "    }\n",
       "\n",
       "    .dataframe tbody tr th {\n",
       "        vertical-align: top;\n",
       "    }\n",
       "\n",
       "    .dataframe thead th {\n",
       "        text-align: right;\n",
       "    }\n",
       "</style>\n",
       "<table border=\"1\" class=\"dataframe\">\n",
       "  <thead>\n",
       "    <tr style=\"text-align: right;\">\n",
       "      <th></th>\n",
       "      <th>0</th>\n",
       "      <th>1</th>\n",
       "      <th>2</th>\n",
       "      <th>3</th>\n",
       "      <th>4</th>\n",
       "      <th>5</th>\n",
       "      <th>6</th>\n",
       "      <th>7</th>\n",
       "      <th>8</th>\n",
       "      <th>9</th>\n",
       "      <th>...</th>\n",
       "      <th>90</th>\n",
       "      <th>91</th>\n",
       "      <th>92</th>\n",
       "      <th>93</th>\n",
       "      <th>94</th>\n",
       "      <th>95</th>\n",
       "      <th>96</th>\n",
       "      <th>97</th>\n",
       "      <th>98</th>\n",
       "      <th>99</th>\n",
       "    </tr>\n",
       "  </thead>\n",
       "  <tbody>\n",
       "    <tr>\n",
       "      <th>count</th>\n",
       "      <td>9.855000e+04</td>\n",
       "      <td>9.855000e+04</td>\n",
       "      <td>9.855000e+04</td>\n",
       "      <td>9.855000e+04</td>\n",
       "      <td>9.855000e+04</td>\n",
       "      <td>9.855000e+04</td>\n",
       "      <td>9.855000e+04</td>\n",
       "      <td>9.855000e+04</td>\n",
       "      <td>9.855000e+04</td>\n",
       "      <td>9.855000e+04</td>\n",
       "      <td>...</td>\n",
       "      <td>9.855000e+04</td>\n",
       "      <td>9.855000e+04</td>\n",
       "      <td>9.855000e+04</td>\n",
       "      <td>9.855000e+04</td>\n",
       "      <td>9.855000e+04</td>\n",
       "      <td>9.855000e+04</td>\n",
       "      <td>9.855000e+04</td>\n",
       "      <td>9.855000e+04</td>\n",
       "      <td>9.855000e+04</td>\n",
       "      <td>9.855000e+04</td>\n",
       "    </tr>\n",
       "    <tr>\n",
       "      <th>mean</th>\n",
       "      <td>-1.778606e-15</td>\n",
       "      <td>-1.010376e-15</td>\n",
       "      <td>-4.189620e-16</td>\n",
       "      <td>-9.012930e-17</td>\n",
       "      <td>-7.028897e-17</td>\n",
       "      <td>1.597978e-16</td>\n",
       "      <td>8.339843e-17</td>\n",
       "      <td>-2.131758e-16</td>\n",
       "      <td>-9.182959e-17</td>\n",
       "      <td>2.702423e-17</td>\n",
       "      <td>...</td>\n",
       "      <td>5.062048e-18</td>\n",
       "      <td>2.530024e-17</td>\n",
       "      <td>1.436285e-17</td>\n",
       "      <td>1.093545e-17</td>\n",
       "      <td>-5.541969e-17</td>\n",
       "      <td>-1.895483e-17</td>\n",
       "      <td>9.368444e-18</td>\n",
       "      <td>-2.096613e-17</td>\n",
       "      <td>1.652707e-17</td>\n",
       "      <td>4.025597e-19</td>\n",
       "    </tr>\n",
       "    <tr>\n",
       "      <th>std</th>\n",
       "      <td>1.650207e-01</td>\n",
       "      <td>1.402026e-01</td>\n",
       "      <td>1.190333e-01</td>\n",
       "      <td>1.152824e-01</td>\n",
       "      <td>9.929207e-02</td>\n",
       "      <td>8.122586e-02</td>\n",
       "      <td>7.848397e-02</td>\n",
       "      <td>7.489747e-02</td>\n",
       "      <td>7.280805e-02</td>\n",
       "      <td>7.225260e-02</td>\n",
       "      <td>...</td>\n",
       "      <td>4.182133e-02</td>\n",
       "      <td>4.164577e-02</td>\n",
       "      <td>4.147493e-02</td>\n",
       "      <td>4.145434e-02</td>\n",
       "      <td>4.122584e-02</td>\n",
       "      <td>4.115070e-02</td>\n",
       "      <td>4.090029e-02</td>\n",
       "      <td>4.082382e-02</td>\n",
       "      <td>4.058531e-02</td>\n",
       "      <td>4.023560e-02</td>\n",
       "    </tr>\n",
       "    <tr>\n",
       "      <th>min</th>\n",
       "      <td>-4.537709e-01</td>\n",
       "      <td>-6.122365e-01</td>\n",
       "      <td>-1.691763e-01</td>\n",
       "      <td>-2.467681e-01</td>\n",
       "      <td>-2.595318e-01</td>\n",
       "      <td>-2.737119e-01</td>\n",
       "      <td>-1.931123e-01</td>\n",
       "      <td>-6.342293e-01</td>\n",
       "      <td>-3.328845e-01</td>\n",
       "      <td>-5.230166e-01</td>\n",
       "      <td>...</td>\n",
       "      <td>-2.576357e-01</td>\n",
       "      <td>-3.348824e-01</td>\n",
       "      <td>-2.701302e-01</td>\n",
       "      <td>-2.466682e-01</td>\n",
       "      <td>-2.320357e-01</td>\n",
       "      <td>-2.838890e-01</td>\n",
       "      <td>-2.941234e-01</td>\n",
       "      <td>-2.629867e-01</td>\n",
       "      <td>-2.785617e-01</td>\n",
       "      <td>-2.292427e-01</td>\n",
       "    </tr>\n",
       "    <tr>\n",
       "      <th>25%</th>\n",
       "      <td>-7.326945e-02</td>\n",
       "      <td>-2.810670e-02</td>\n",
       "      <td>-9.020374e-02</td>\n",
       "      <td>-6.105505e-02</td>\n",
       "      <td>-3.671743e-02</td>\n",
       "      <td>-2.145890e-02</td>\n",
       "      <td>-2.338607e-02</td>\n",
       "      <td>-5.491663e-03</td>\n",
       "      <td>-2.188994e-02</td>\n",
       "      <td>-7.039934e-03</td>\n",
       "      <td>...</td>\n",
       "      <td>-1.790846e-02</td>\n",
       "      <td>-1.658479e-02</td>\n",
       "      <td>-1.597144e-02</td>\n",
       "      <td>-1.845799e-02</td>\n",
       "      <td>-1.779103e-02</td>\n",
       "      <td>-1.783090e-02</td>\n",
       "      <td>-1.793489e-02</td>\n",
       "      <td>-1.690202e-02</td>\n",
       "      <td>-1.679546e-02</td>\n",
       "      <td>-1.819264e-02</td>\n",
       "    </tr>\n",
       "    <tr>\n",
       "      <th>50%</th>\n",
       "      <td>-5.886256e-02</td>\n",
       "      <td>1.101424e-02</td>\n",
       "      <td>-2.435538e-02</td>\n",
       "      <td>-1.047768e-02</td>\n",
       "      <td>-2.221602e-02</td>\n",
       "      <td>4.776592e-04</td>\n",
       "      <td>-5.437872e-03</td>\n",
       "      <td>6.003797e-04</td>\n",
       "      <td>2.718021e-04</td>\n",
       "      <td>-1.817432e-03</td>\n",
       "      <td>...</td>\n",
       "      <td>-3.576961e-03</td>\n",
       "      <td>1.391813e-03</td>\n",
       "      <td>2.642997e-03</td>\n",
       "      <td>1.298277e-03</td>\n",
       "      <td>-1.868363e-03</td>\n",
       "      <td>-3.417279e-03</td>\n",
       "      <td>-1.719528e-03</td>\n",
       "      <td>1.793307e-03</td>\n",
       "      <td>3.450941e-03</td>\n",
       "      <td>7.620825e-04</td>\n",
       "    </tr>\n",
       "    <tr>\n",
       "      <th>75%</th>\n",
       "      <td>1.265291e-01</td>\n",
       "      <td>3.890583e-02</td>\n",
       "      <td>5.357590e-02</td>\n",
       "      <td>-3.932853e-03</td>\n",
       "      <td>-3.982950e-03</td>\n",
       "      <td>4.613698e-03</td>\n",
       "      <td>4.999671e-03</td>\n",
       "      <td>5.792153e-03</td>\n",
       "      <td>9.349469e-03</td>\n",
       "      <td>7.171680e-03</td>\n",
       "      <td>...</td>\n",
       "      <td>1.608945e-02</td>\n",
       "      <td>1.638583e-02</td>\n",
       "      <td>1.593548e-02</td>\n",
       "      <td>1.775526e-02</td>\n",
       "      <td>1.503107e-02</td>\n",
       "      <td>1.688448e-02</td>\n",
       "      <td>1.618591e-02</td>\n",
       "      <td>1.698397e-02</td>\n",
       "      <td>1.813620e-02</td>\n",
       "      <td>1.590833e-02</td>\n",
       "    </tr>\n",
       "    <tr>\n",
       "      <th>max</th>\n",
       "      <td>7.564889e-01</td>\n",
       "      <td>6.902804e-01</td>\n",
       "      <td>6.468355e-01</td>\n",
       "      <td>9.442297e-01</td>\n",
       "      <td>8.762766e-01</td>\n",
       "      <td>7.320055e-01</td>\n",
       "      <td>8.423308e-01</td>\n",
       "      <td>7.004911e-01</td>\n",
       "      <td>7.105983e-01</td>\n",
       "      <td>8.021622e-01</td>\n",
       "      <td>...</td>\n",
       "      <td>3.386977e-01</td>\n",
       "      <td>3.713849e-01</td>\n",
       "      <td>4.458523e-01</td>\n",
       "      <td>3.145512e-01</td>\n",
       "      <td>3.606883e-01</td>\n",
       "      <td>3.316814e-01</td>\n",
       "      <td>3.226459e-01</td>\n",
       "      <td>3.071840e-01</td>\n",
       "      <td>2.891618e-01</td>\n",
       "      <td>2.649695e-01</td>\n",
       "    </tr>\n",
       "  </tbody>\n",
       "</table>\n",
       "<p>8 rows × 100 columns</p>\n",
       "</div>"
      ],
      "text/plain": [
       "                 0             1             2             3             4   \\\n",
       "count  9.855000e+04  9.855000e+04  9.855000e+04  9.855000e+04  9.855000e+04   \n",
       "mean  -1.778606e-15 -1.010376e-15 -4.189620e-16 -9.012930e-17 -7.028897e-17   \n",
       "std    1.650207e-01  1.402026e-01  1.190333e-01  1.152824e-01  9.929207e-02   \n",
       "min   -4.537709e-01 -6.122365e-01 -1.691763e-01 -2.467681e-01 -2.595318e-01   \n",
       "25%   -7.326945e-02 -2.810670e-02 -9.020374e-02 -6.105505e-02 -3.671743e-02   \n",
       "50%   -5.886256e-02  1.101424e-02 -2.435538e-02 -1.047768e-02 -2.221602e-02   \n",
       "75%    1.265291e-01  3.890583e-02  5.357590e-02 -3.932853e-03 -3.982950e-03   \n",
       "max    7.564889e-01  6.902804e-01  6.468355e-01  9.442297e-01  8.762766e-01   \n",
       "\n",
       "                 5             6             7             8             9   \\\n",
       "count  9.855000e+04  9.855000e+04  9.855000e+04  9.855000e+04  9.855000e+04   \n",
       "mean   1.597978e-16  8.339843e-17 -2.131758e-16 -9.182959e-17  2.702423e-17   \n",
       "std    8.122586e-02  7.848397e-02  7.489747e-02  7.280805e-02  7.225260e-02   \n",
       "min   -2.737119e-01 -1.931123e-01 -6.342293e-01 -3.328845e-01 -5.230166e-01   \n",
       "25%   -2.145890e-02 -2.338607e-02 -5.491663e-03 -2.188994e-02 -7.039934e-03   \n",
       "50%    4.776592e-04 -5.437872e-03  6.003797e-04  2.718021e-04 -1.817432e-03   \n",
       "75%    4.613698e-03  4.999671e-03  5.792153e-03  9.349469e-03  7.171680e-03   \n",
       "max    7.320055e-01  8.423308e-01  7.004911e-01  7.105983e-01  8.021622e-01   \n",
       "\n",
       "       ...            90            91            92            93  \\\n",
       "count  ...  9.855000e+04  9.855000e+04  9.855000e+04  9.855000e+04   \n",
       "mean   ...  5.062048e-18  2.530024e-17  1.436285e-17  1.093545e-17   \n",
       "std    ...  4.182133e-02  4.164577e-02  4.147493e-02  4.145434e-02   \n",
       "min    ... -2.576357e-01 -3.348824e-01 -2.701302e-01 -2.466682e-01   \n",
       "25%    ... -1.790846e-02 -1.658479e-02 -1.597144e-02 -1.845799e-02   \n",
       "50%    ... -3.576961e-03  1.391813e-03  2.642997e-03  1.298277e-03   \n",
       "75%    ...  1.608945e-02  1.638583e-02  1.593548e-02  1.775526e-02   \n",
       "max    ...  3.386977e-01  3.713849e-01  4.458523e-01  3.145512e-01   \n",
       "\n",
       "                 94            95            96            97            98  \\\n",
       "count  9.855000e+04  9.855000e+04  9.855000e+04  9.855000e+04  9.855000e+04   \n",
       "mean  -5.541969e-17 -1.895483e-17  9.368444e-18 -2.096613e-17  1.652707e-17   \n",
       "std    4.122584e-02  4.115070e-02  4.090029e-02  4.082382e-02  4.058531e-02   \n",
       "min   -2.320357e-01 -2.838890e-01 -2.941234e-01 -2.629867e-01 -2.785617e-01   \n",
       "25%   -1.779103e-02 -1.783090e-02 -1.793489e-02 -1.690202e-02 -1.679546e-02   \n",
       "50%   -1.868363e-03 -3.417279e-03 -1.719528e-03  1.793307e-03  3.450941e-03   \n",
       "75%    1.503107e-02  1.688448e-02  1.618591e-02  1.698397e-02  1.813620e-02   \n",
       "max    3.606883e-01  3.316814e-01  3.226459e-01  3.071840e-01  2.891618e-01   \n",
       "\n",
       "                 99  \n",
       "count  9.855000e+04  \n",
       "mean   4.025597e-19  \n",
       "std    4.023560e-02  \n",
       "min   -2.292427e-01  \n",
       "25%   -1.819264e-02  \n",
       "50%    7.620825e-04  \n",
       "75%    1.590833e-02  \n",
       "max    2.649695e-01  \n",
       "\n",
       "[8 rows x 100 columns]"
      ]
     },
     "execution_count": 38,
     "metadata": {},
     "output_type": "execute_result"
    }
   ],
   "source": [
    "pd.DataFrame(Z_combined).describe()\n",
    "\n",
    "# column 0 is the first principal component"
   ]
  },
  {
   "cell_type": "code",
   "execution_count": 39,
   "metadata": {},
   "outputs": [
    {
     "name": "stdout",
     "output_type": "stream",
     "text": [
      "Explained variance: [0.029 0.021 0.015 0.014 0.01  0.007 0.006 0.006 0.006 0.005 0.005 0.005\n",
      " 0.005 0.005 0.005 0.004 0.004 0.004 0.004 0.004 0.004 0.004 0.004 0.004\n",
      " 0.004 0.004 0.004 0.003 0.003 0.003 0.003 0.003 0.003 0.003 0.003 0.003\n",
      " 0.003 0.003 0.003 0.003 0.003 0.003 0.003 0.003 0.003 0.003 0.003 0.003\n",
      " 0.003 0.003 0.003 0.003 0.003 0.003 0.003 0.003 0.003 0.002 0.002 0.002\n",
      " 0.002 0.002 0.002 0.002 0.002 0.002 0.002 0.002 0.002 0.002 0.002 0.002\n",
      " 0.002 0.002 0.002 0.002 0.002 0.002 0.002 0.002 0.002 0.002 0.002 0.002\n",
      " 0.002 0.002 0.002 0.002 0.002 0.002 0.002 0.002 0.002 0.002 0.002 0.002\n",
      " 0.002 0.002 0.002 0.002]\n",
      "Cumulative explained variance: [0.029 0.049 0.064 0.078 0.089 0.096 0.102 0.108 0.114 0.119 0.125 0.129\n",
      " 0.134 0.139 0.143 0.148 0.152 0.156 0.16  0.164 0.168 0.172 0.176 0.18\n",
      " 0.183 0.187 0.19  0.194 0.197 0.201 0.204 0.207 0.21  0.214 0.217 0.22\n",
      " 0.223 0.226 0.229 0.232 0.235 0.238 0.24  0.243 0.246 0.249 0.252 0.254\n",
      " 0.257 0.26  0.262 0.265 0.268 0.27  0.273 0.275 0.278 0.28  0.283 0.285\n",
      " 0.288 0.29  0.292 0.295 0.297 0.299 0.302 0.304 0.306 0.308 0.31  0.313\n",
      " 0.315 0.317 0.319 0.321 0.323 0.325 0.327 0.329 0.331 0.333 0.335 0.337\n",
      " 0.339 0.341 0.343 0.345 0.347 0.348 0.35  0.352 0.354 0.356 0.358 0.359\n",
      " 0.361 0.363 0.365 0.366]\n"
     ]
    }
   ],
   "source": [
    "var_exp = pca.explained_variance_ratio_\n",
    "print(f'Explained variance: {np.round(var_exp,3)}')\n",
    "\n",
    "cum_var_exp = np.cumsum(var_exp)\n",
    "print(f'Cumulative explained variance: {np.round(cum_var_exp,3)}')"
   ]
  },
  {
   "cell_type": "code",
   "execution_count": null,
   "metadata": {},
   "outputs": [],
   "source": []
  }
 ],
 "metadata": {
  "kernelspec": {
   "display_name": "Python 3",
   "language": "python",
   "name": "python3"
  },
  "language_info": {
   "codemirror_mode": {
    "name": "ipython",
    "version": 3
   },
   "file_extension": ".py",
   "mimetype": "text/x-python",
   "name": "python",
   "nbconvert_exporter": "python",
   "pygments_lexer": "ipython3",
   "version": "3.6.8"
  }
 },
 "nbformat": 4,
 "nbformat_minor": 2
}
