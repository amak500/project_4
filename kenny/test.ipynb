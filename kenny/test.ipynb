{
  "cells": [
    {
      "cell_type": "code",
      "execution_count": 2,
      "metadata": {
        "collapsed": true,
        "pycharm": {
          "name": "#%%\n",
          "is_executing": false
        }
      },
      "outputs": [
        {
          "data": {
            "text/plain": "set()"
          },
          "metadata": {},
          "output_type": "execute_result",
          "execution_count": 2
        }
      ],
      "source": "set([\u0027testing\u0027]).intersection(set([\u0027test\u0027]))"
    }
  ],
  "metadata": {
    "language_info": {
      "codemirror_mode": {
        "name": "ipython",
        "version": 2
      },
      "file_extension": ".py",
      "mimetype": "text/x-python",
      "name": "python",
      "nbconvert_exporter": "python",
      "pygments_lexer": "ipython2",
      "version": "2.7.6"
    },
    "kernelspec": {
      "name": "pycharm-f6d6c855",
      "language": "python",
      "display_name": "PyCharm (Data Science Immersive (GA))"
    }
  },
  "nbformat": 4,
  "nbformat_minor": 0
}