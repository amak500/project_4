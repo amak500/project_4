{
  "cells": [
    {
      "cell_type": "code",
      "execution_count": 2,
      "metadata": {
        "collapsed": true,
        "pycharm": {
          "is_executing": false
        }
      },
      "outputs": [
        {
          "data": {
            "text/plain": "[\u0027earthquake\u0027,\n \u0027hurricane\u0027,\n \u0027fire\u0027,\n \u0027emergency\u0027,\n \u0027help\u0027,\n \u0027wind\u0027,\n \u0027rain\u0027,\n \u0027water\u0027,\n \u0027shock\u0027,\n \u0027aftershock\u0027,\n \u0027weather\u0027,\n \u0027heat\u0027,\n \u0027flames\u0027,\n \u0027smoke\u0027,\n \u0027air\u0027,\n \u0027sky\u0027,\n \u0027arson\u0027,\n \u0027arsonist\u0027,\n \u0027avalanche\u0027,\n \u0027barometer\u0027,\n \u0027Beaufort scale\u0027,\n \u0027blackout\u0027,\n \u0027blizzard\u0027,\n \u0027blow\u0027,\n \u0027cloud\u0027,\n \u0027crust\u0027,\n \u0027cumulonimbus\u0027,\n \u0027cyclone\u0027,\n \u0027dam\u0027,\n \u0027drought\u0027,\n \u0027dust storm\u0027,\n \u0027earthquake\u0027,\n \u0027erosion\u0027,\n \u0027fatal\u0027,\n \u0027fault\u0027,\n \u0027fire\u0027,\n \u0027flood\u0027,\n \u0027fog\u0027,\n \u0027force\u0027,\n \u0027forest\u0027,\n \u0027forest fire\u0027,\n \u0027gale\u0027,\n \u0027geyser\u0027,\n \u0027gust\u0027,\n \u0027hail\u0027,\n \u0027hailstorm\u0027,\n \u0027heat\u0027,\n \u0027high-pressure\u0027,\n \u0027hurricane\u0027,\n \u0027iceberg\u0027,\n \u0027kamikaze\u0027,\n \u0027lack\u0027,\n \u0027lava\u0027,\n \u0027lightning\u0027,\n \u0027low-pressure\u0027,\n \u0027magma\u0027,\n \u0027mountain\u0027,\n \u0027nimbus\u0027,\n \u0027ocean\u0027,\n \u0027permafrost\u0027,\n \u0027rain\u0027,\n \u0027rainstorm\u0027,\n \u0027Richter scale\u0027,\n \u0027river\u0027,\n \u0027sandstorm\u0027,\n \u0027sea\u0027,\n \u0027seismic\u0027,\n \u0027sinking\u0027,\n \u0027snowstorm\u0027,\n \u0027storm\u0027,\n \u0027stuck\u0027,\n \u0027thunderstorm\u0027,\n \u0027tornado\u0027,\n \u0027tsunami\u0027,\n \u0027twister\u0027,\n \u0027violent storm\u0027,\n \u0027volcano\u0027,\n \u0027volt\u0027,\n \u0027whirlpool\u0027,\n \u0027whirlwind\u0027,\n \u0027wind scale\u0027,\n \u0027wind vane\u0027,\n \u0027windstorm\u0027,\n \u0027heat wave\u0027,\n \u0027wave\u0027,\n \u0027tremor\u0027,\n \u0027underground\u0027,\n \u0027death\u0027,\n \u0027casualty\u0027,\n \u0027fatality\u0027,\n \u0027money\u0027,\n \u0027lost\u0027,\n \u0027damage\u0027,\n \u0027life\u0027,\n \u0027poor\u0027,\n \u0027shelter\u0027,\n \u0027rescue\u0027,\n \u0027coast\u0027,\n \u0027monster\u0027,\n \u0027myth\u0027,\n \u0027science\u0027,\n \u0027scientist\u0027,\n \u0027god\u0027,\n \u0027goddess\u0027,\n \u0027sink\u0027,\n \u0027boat\u0027,\n \u0027destruction\u0027,\n \u0027destroy\u0027,\n \u0027uproot\u0027,\n \u0027tree\u0027,\n \u0027fate\u0027,\n \u0027poverty\u0027,\n \u0027impoverish\u0027,\n \u0027farm\u0027,\n \u0027touchdown\u0027,\n \u0027zap\u0027,\n \u0027tension\u0027,\n \u0027nightmare\u0027,\n \u0027monstrosity\u0027,\n \u0027oil\u0027,\n \u0027spill\u0027,\n \u0027cataclysm\u0027,\n \u0027Bermuda\u0027,\n \u0027Bermuda Triangle\u0027,\n \u0027wind\u0027,\n \u0027windy\u0027,\n \u0027wave\u0027,\n \u0027ice\u0027]"
          },
          "metadata": {},
          "output_type": "execute_result",
          "execution_count": 2
        }
      ],
      "source": "disaster_keywords \u003d []\n\nwith open(\u0027../assets/disaster_keywords.txt\u0027) as f:\n    for phrase in f:\n        disaster_keywords.append(phrase.strip())\n\ndisaster_keywords"
    }
  ],
  "metadata": {
    "language_info": {
      "codemirror_mode": {
        "name": "ipython",
        "version": 2
      },
      "file_extension": ".py",
      "mimetype": "text/x-python",
      "name": "python",
      "nbconvert_exporter": "python",
      "pygments_lexer": "ipython2",
      "version": "2.7.6"
    },
    "kernelspec": {
      "name": "pycharm-f6d6c855",
      "language": "python",
      "display_name": "PyCharm (Data Science Immersive (GA))"
    }
  },
  "nbformat": 4,
  "nbformat_minor": 0
}