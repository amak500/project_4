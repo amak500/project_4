{
  "cells": [
    {
      "cell_type": "markdown",
      "metadata": {
        "pycharm": {}
      },
      "source": [
        "## Data Cleaning\n"
      ]
    },
    {
      "cell_type": "code",
      "execution_count": 1,
      "metadata": {
        "pycharm": {
          "is_executing": false
        }
      },
      "outputs": [],
      "source": [
        "import pandas as pd\n",
        "import re"
      ]
    },
    {
      "cell_type": "markdown",
      "metadata": {
        "pycharm": {}
      },
      "source": [
        "This imports  the libraries that wee need. "
      ]
    },
    {
      "cell_type": "code",
      "execution_count": 2,
      "metadata": {
        "pycharm": {
          "is_executing": false
        }
      },
      "outputs": [
        {
          "name": "stderr",
          "text": [
            "/Users/newtonsspawn/anaconda3/envs/dsi/lib/python3.6/site-packages/ipykernel_launcher.py:1: ParserWarning: Falling back to the \u0027python\u0027 engine because the \u0027c\u0027 engine does not support regex separators (separators \u003e 1 char and different from \u0027\\s+\u0027 are interpreted as regex); you can avoid this warning by specifying engine\u003d\u0027python\u0027.\n  \"\"\"Entry point for launching an IPython kernel.\n/Users/newtonsspawn/anaconda3/envs/dsi/lib/python3.6/site-packages/ipykernel_launcher.py:2: ParserWarning: Falling back to the \u0027python\u0027 engine because the \u0027c\u0027 engine does not support regex separators (separators \u003e 1 char and different from \u0027\\s+\u0027 are interpreted as regex); you can avoid this warning by specifying engine\u003d\u0027python\u0027.\n  \n",
            "/Users/newtonsspawn/anaconda3/envs/dsi/lib/python3.6/site-packages/ipykernel_launcher.py:3: ParserWarning: Falling back to the \u0027python\u0027 engine because the \u0027c\u0027 engine does not support regex separators (separators \u003e 1 char and different from \u0027\\s+\u0027 are interpreted as regex); you can avoid this warning by specifying engine\u003d\u0027python\u0027.\n  This is separate from the ipykernel package so we can avoid doing imports until\n/Users/newtonsspawn/anaconda3/envs/dsi/lib/python3.6/site-packages/ipykernel_launcher.py:4: ParserWarning: Falling back to the \u0027python\u0027 engine because the \u0027c\u0027 engine does not support regex separators (separators \u003e 1 char and different from \u0027\\s+\u0027 are interpreted as regex); you can avoid this warning by specifying engine\u003d\u0027python\u0027.\n  after removing the cwd from sys.path.\n/Users/newtonsspawn/anaconda3/envs/dsi/lib/python3.6/site-packages/ipykernel_launcher.py:5: ParserWarning: Falling back to the \u0027python\u0027 engine because the \u0027c\u0027 engine does not support regex separators (separators \u003e 1 char and different from \u0027\\s+\u0027 are interpreted as regex); you can avoid this warning by specifying engine\u003d\u0027python\u0027.\n  \"\"\"\n/Users/newtonsspawn/anaconda3/envs/dsi/lib/python3.6/site-packages/ipykernel_launcher.py:6: ParserWarning: Falling back to the \u0027python\u0027 engine because the \u0027c\u0027 engine does not support regex separators (separators \u003e 1 char and different from \u0027\\s+\u0027 are interpreted as regex); you can avoid this warning by specifying engine\u003d\u0027python\u0027.\n  \n",
            "/Users/newtonsspawn/anaconda3/envs/dsi/lib/python3.6/site-packages/ipykernel_launcher.py:7: ParserWarning: Falling back to the \u0027python\u0027 engine because the \u0027c\u0027 engine does not support regex separators (separators \u003e 1 char and different from \u0027\\s+\u0027 are interpreted as regex); you can avoid this warning by specifying engine\u003d\u0027python\u0027.\n  import sys\n/Users/newtonsspawn/anaconda3/envs/dsi/lib/python3.6/site-packages/ipykernel_launcher.py:8: ParserWarning: Falling back to the \u0027python\u0027 engine because the \u0027c\u0027 engine does not support regex separators (separators \u003e 1 char and different from \u0027\\s+\u0027 are interpreted as regex); you can avoid this warning by specifying engine\u003d\u0027python\u0027.\n  \n"
          ],
          "output_type": "stream"
        }
      ],
      "source": [
        "hurricane_harvey_pre \u003d pd.read_csv(\u0027../data/hurricane_harvey_pre.csv\u0027,delimiter\u003d\";;\")\n",
        "hurricane_irma_pre \u003d pd.read_csv(\u0027../data/hurricane_irma_pre.csv\u0027,delimiter\u003d\";;\")\n",
        "hurricane_maria_pre \u003d pd.read_csv(\u0027../data/hurricane_maria_pre.csv\u0027,delimiter\u003d\";;\")\n",
        "north_bay_2014_earthquake_pre \u003d pd.read_csv(\u0027../data/north_bay_2014_earthquake_pre.csv\u0027,delimiter\u003d\";;\")\n",
        "prague_2011_earthquake_pre \u003d pd.read_csv(\u0027../data/prague_2011_earthquake_pre.csv\u0027,delimiter\u003d\";;\")\n",
        "wildfire_campfire_pre \u003d pd.read_csv(\u0027../data/wildfire_campfire_pre.csv\u0027,delimiter\u003d\";;\")\n",
        "wildfire_carrfire_pre \u003d pd.read_csv(\u0027../data/wildfire_carrfire_pre.csv\u0027,delimiter\u003d\";;\")\n",
        "wildfire_woolseyfire_pre \u003d pd.read_csv(\u0027../data/wildfire_woolseyfire_pre.csv\u0027,delimiter\u003d\";;\")"
      ]
    },
    {
      "cell_type": "markdown",
      "metadata": {
        "pycharm": {}
      },
      "source": [
        "This imports the pre-disaster data that we scraped using GetOldTweets3 into DataFrames. "
      ]
    },
    {
      "cell_type": "code",
      "execution_count": 3,
      "metadata": {
        "pycharm": {
          "is_executing": false
        }
      },
      "outputs": [],
      "source": "combined_pre \u003d pd.concat([hurricane_harvey_pre, hurricane_irma_pre,hurricane_maria_pre,north_bay_2014_earthquake_pre,prague_2011_earthquake_pre,wildfire_campfire_pre,wildfire_carrfire_pre,wildfire_woolseyfire_pre], ignore_index\u003dTrue)"
    },
    {
      "cell_type": "markdown",
      "metadata": {
        "pycharm": {}
      },
      "source": [
        "This creates a combined dataframe of all of the pre-disaster Dataframes that we previously imported. "
      ]
    },
    {
      "cell_type": "code",
      "execution_count": 5,
      "metadata": {
        "pycharm": {
          "is_executing": false
        }
      },
      "outputs": [],
      "source": "combined_pre[\u0027text\u0027] \u003d combined_pre.text.map(lambda x: re.sub(\u0027http[s]?:\\/\\/[^\\s]*\u0027, \u0027 \u0027, x))"
    },
    {
      "cell_type": "code",
      "execution_count": 6,
      "metadata": {
        "pycharm": {
          "is_executing": false
        }
      },
      "outputs": [],
      "source": "combined_pre[\u0027text\u0027] \u003d combined_pre.text.map(lambda x: re.sub(\u0027[^A-z]\u0027, \u0027 \u0027, x))"
    },
    {
      "cell_type": "markdown",
      "metadata": {
        "pycharm": {}
      },
      "source": "This removes all URLs and nonalphabetical characters from our pre-disaster twitter texts."
    },
    {
      "cell_type": "code",
      "execution_count": 7,
      "metadata": {
        "pycharm": {
          "is_executing": false
        }
      },
      "outputs": [
        {
          "name": "stderr",
          "text": [
            "/Users/newtonsspawn/anaconda3/envs/dsi/lib/python3.6/site-packages/ipykernel_launcher.py:1: ParserWarning: Falling back to the \u0027python\u0027 engine because the \u0027c\u0027 engine does not support regex separators (separators \u003e 1 char and different from \u0027\\s+\u0027 are interpreted as regex); you can avoid this warning by specifying engine\u003d\u0027python\u0027.\n  \"\"\"Entry point for launching an IPython kernel.\n/Users/newtonsspawn/anaconda3/envs/dsi/lib/python3.6/site-packages/ipykernel_launcher.py:2: ParserWarning: Falling back to the \u0027python\u0027 engine because the \u0027c\u0027 engine does not support regex separators (separators \u003e 1 char and different from \u0027\\s+\u0027 are interpreted as regex); you can avoid this warning by specifying engine\u003d\u0027python\u0027.\n  \n",
            "/Users/newtonsspawn/anaconda3/envs/dsi/lib/python3.6/site-packages/ipykernel_launcher.py:3: ParserWarning: Falling back to the \u0027python\u0027 engine because the \u0027c\u0027 engine does not support regex separators (separators \u003e 1 char and different from \u0027\\s+\u0027 are interpreted as regex); you can avoid this warning by specifying engine\u003d\u0027python\u0027.\n  This is separate from the ipykernel package so we can avoid doing imports until\n/Users/newtonsspawn/anaconda3/envs/dsi/lib/python3.6/site-packages/ipykernel_launcher.py:4: ParserWarning: Falling back to the \u0027python\u0027 engine because the \u0027c\u0027 engine does not support regex separators (separators \u003e 1 char and different from \u0027\\s+\u0027 are interpreted as regex); you can avoid this warning by specifying engine\u003d\u0027python\u0027.\n  after removing the cwd from sys.path.\n/Users/newtonsspawn/anaconda3/envs/dsi/lib/python3.6/site-packages/ipykernel_launcher.py:5: ParserWarning: Falling back to the \u0027python\u0027 engine because the \u0027c\u0027 engine does not support regex separators (separators \u003e 1 char and different from \u0027\\s+\u0027 are interpreted as regex); you can avoid this warning by specifying engine\u003d\u0027python\u0027.\n  \"\"\"\n/Users/newtonsspawn/anaconda3/envs/dsi/lib/python3.6/site-packages/ipykernel_launcher.py:6: ParserWarning: Falling back to the \u0027python\u0027 engine because the \u0027c\u0027 engine does not support regex separators (separators \u003e 1 char and different from \u0027\\s+\u0027 are interpreted as regex); you can avoid this warning by specifying engine\u003d\u0027python\u0027.\n  \n",
            "/Users/newtonsspawn/anaconda3/envs/dsi/lib/python3.6/site-packages/ipykernel_launcher.py:7: ParserWarning: Falling back to the \u0027python\u0027 engine because the \u0027c\u0027 engine does not support regex separators (separators \u003e 1 char and different from \u0027\\s+\u0027 are interpreted as regex); you can avoid this warning by specifying engine\u003d\u0027python\u0027.\n  import sys\n/Users/newtonsspawn/anaconda3/envs/dsi/lib/python3.6/site-packages/ipykernel_launcher.py:8: ParserWarning: Falling back to the \u0027python\u0027 engine because the \u0027c\u0027 engine does not support regex separators (separators \u003e 1 char and different from \u0027\\s+\u0027 are interpreted as regex); you can avoid this warning by specifying engine\u003d\u0027python\u0027.\n  \n"
          ],
          "output_type": "stream"
        }
      ],
      "source": "hurricane_harvey_post \u003d pd.read_csv(\u0027../data/hurricane_harvey_post.csv\u0027,delimiter\u003d\";;\")\nhurricane_irma_post \u003d pd.read_csv(\u0027../data/hurricane_irma_post.csv\u0027,delimiter\u003d\";;\")\nhurricane_maria_post \u003d pd.read_csv(\u0027../data/hurricane_maria_post.csv\u0027,delimiter\u003d\";;\")\nnorth_bay_2014_earthquake_post \u003d pd.read_csv(\u0027../data/north_bay_2014_earthquake_post.csv\u0027,delimiter\u003d\";;\")\nprague_2011_earthquake_post \u003d pd.read_csv(\u0027../data/prague_2011_earthquake_post.csv\u0027,delimiter\u003d\";;\")\nwildfire_campfire_post \u003d pd.read_csv(\u0027../data/wildfire_campfire_post.csv\u0027,delimiter\u003d\";;\")\nwildfire_carrfire_post \u003d pd.read_csv(\u0027../data/wildfire_carrfire_post.csv\u0027,delimiter\u003d\";;\")\nwildfire_woolseyfire_post \u003d pd.read_csv(\u0027../data/wildfire_woolseyfire_post.csv\u0027,delimiter\u003d\";;\")"
    },
    {
      "cell_type": "markdown",
      "metadata": {
        "pycharm": {}
      },
      "source": [
        "This imports the post-disaster data that we scraped using GetOldTweets3 into DataFrames. "
      ]
    },
    {
      "cell_type": "code",
      "execution_count": 8,
      "metadata": {
        "pycharm": {
          "is_executing": false
        }
      },
      "outputs": [],
      "source": "combined_post \u003d pd.concat([hurricane_harvey_post, hurricane_irma_post,hurricane_maria_post,north_bay_2014_earthquake_post,prague_2011_earthquake_post,wildfire_campfire_post,wildfire_carrfire_post,wildfire_woolseyfire_post], ignore_index\u003dTrue)"
    },
    {
      "cell_type": "markdown",
      "metadata": {
        "pycharm": {}
      },
      "source": [
        "This creates a combined dataframe of all of the post-disaster Dataframes that we previously imported. "
      ]
    },
    {
      "cell_type": "code",
      "execution_count": 9,
      "metadata": {
        "pycharm": {
          "is_executing": false
        }
      },
      "outputs": [],
      "source": "combined_post[\u0027text\u0027] \u003d combined_post.text.map(lambda x: re.sub(\u0027http[s]?:\\/\\/[^\\s]*\u0027, \u0027 \u0027, x))"
    },
    {
      "cell_type": "code",
      "execution_count": 10,
      "metadata": {
        "pycharm": {
          "is_executing": false
        }
      },
      "outputs": [],
      "source": "combined_post[\u0027text\u0027] \u003d combined_post.text.map(lambda x: re.sub(\u0027[^A-z]\u0027, \u0027 \u0027, x))"
    },
    {
      "cell_type": "markdown",
      "metadata": {
        "pycharm": {}
      },
      "source": [
        "This removes all URLs and nonalphabetical characters from our post-disaster twitter texts. "
      ]
    },
    {
      "cell_type": "code",
      "execution_count": 11,
      "metadata": {
        "pycharm": {
          "is_executing": false
        }
      },
      "outputs": [],
      "source": "combined_pre.to_csv(\u0027../assets/combined_pre.csv\u0027)"
    },
    {
      "cell_type": "code",
      "execution_count": 12,
      "metadata": {
        "pycharm": {
          "is_executing": false
        }
      },
      "outputs": [],
      "source": "combined_post.to_csv(\u0027../assets/combined_post.csv\u0027)"
    },
    {
      "cell_type": "markdown",
      "metadata": {
        "pycharm": {}
      },
      "source": [
        "This exports our pre and post disaster combined DataFrames to csv files. "
      ]
    }
  ],
  "metadata": {
    "kernelspec": {
      "name": "pycharm-f6d6c855",
      "language": "python",
      "display_name": "PyCharm (Data Science Immersive (GA))"
    },
    "language_info": {
      "codemirror_mode": {
        "name": "ipython",
        "version": 3
      },
      "file_extension": ".py",
      "mimetype": "text/x-python",
      "name": "python",
      "nbconvert_exporter": "python",
      "pygments_lexer": "ipython3",
      "version": "3.7.1"
    }
  },
  "nbformat": 4,
  "nbformat_minor": 2
}