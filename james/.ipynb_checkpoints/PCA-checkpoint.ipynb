{
 "cells": [
  {
   "cell_type": "code",
   "execution_count": 389,
   "metadata": {},
   "outputs": [],
   "source": [
    "import pandas as pd\n",
    "import numpy as np\n",
    "import matplotlib.pyplot as plt\n",
    "import pickle\n",
    "import nltk\n",
    "from nltk.corpus import stopwords\n",
    "from nltk.stem import WordNetLemmatizer\n",
    "from sklearn.model_selection import train_test_split\n",
    "from sklearn.feature_extraction.text import CountVectorizer, TfidfVectorizer\n",
    "from sklearn.model_selection import train_test_split, GridSearchCV\n",
    "\n",
    "%matplotlib inline"
   ]
  },
  {
   "cell_type": "code",
   "execution_count": 390,
   "metadata": {},
   "outputs": [],
   "source": [
    "combined_pre = pd.read_csv('./assets/combined_pre_classed.csv', index_col= 0)\n",
    "combined_post = pd.read_csv('./assets/combined_post_classed.csv', index_col=0)"
   ]
  },
  {
   "cell_type": "code",
   "execution_count": 391,
   "metadata": {},
   "outputs": [
    {
     "data": {
      "text/html": [
       "<div>\n",
       "<style scoped>\n",
       "    .dataframe tbody tr th:only-of-type {\n",
       "        vertical-align: middle;\n",
       "    }\n",
       "\n",
       "    .dataframe tbody tr th {\n",
       "        vertical-align: top;\n",
       "    }\n",
       "\n",
       "    .dataframe thead th {\n",
       "        text-align: right;\n",
       "    }\n",
       "</style>\n",
       "<table border=\"1\" class=\"dataframe\">\n",
       "  <thead>\n",
       "    <tr style=\"text-align: right;\">\n",
       "      <th></th>\n",
       "      <th>text</th>\n",
       "      <th>disaster</th>\n",
       "    </tr>\n",
       "  </thead>\n",
       "  <tbody>\n",
       "    <tr>\n",
       "      <th>0</th>\n",
       "      <td>live in  rd ward at peggy park giving bacc to...</td>\n",
       "      <td>0</td>\n",
       "    </tr>\n",
       "    <tr>\n",
       "      <th>1</th>\n",
       "      <td>accident cleared in  bellaire on     w lp nb ...</td>\n",
       "      <td>0</td>\n",
       "    </tr>\n",
       "    <tr>\n",
       "      <th>2</th>\n",
       "      <td>a nice cold saintarnoldbrewing art car ipa af...</td>\n",
       "      <td>0</td>\n",
       "    </tr>\n",
       "    <tr>\n",
       "      <th>3</th>\n",
       "      <td>where to shop  sale of unique items helps aid...</td>\n",
       "      <td>1</td>\n",
       "    </tr>\n",
       "    <tr>\n",
       "      <th>4</th>\n",
       "      <td>aerial tour shows devastation of epic floodin...</td>\n",
       "      <td>1</td>\n",
       "    </tr>\n",
       "  </tbody>\n",
       "</table>\n",
       "</div>"
      ],
      "text/plain": [
       "                                                text  disaster\n",
       "0   live in  rd ward at peggy park giving bacc to...         0\n",
       "1   accident cleared in  bellaire on     w lp nb ...         0\n",
       "2   a nice cold saintarnoldbrewing art car ipa af...         0\n",
       "3   where to shop  sale of unique items helps aid...         1\n",
       "4   aerial tour shows devastation of epic floodin...         1"
      ]
     },
     "execution_count": 391,
     "metadata": {},
     "output_type": "execute_result"
    }
   ],
   "source": [
    "combined_post.head()"
   ]
  },
  {
   "cell_type": "code",
   "execution_count": 392,
   "metadata": {},
   "outputs": [
    {
     "data": {
      "text/html": [
       "<div>\n",
       "<style scoped>\n",
       "    .dataframe tbody tr th:only-of-type {\n",
       "        vertical-align: middle;\n",
       "    }\n",
       "\n",
       "    .dataframe tbody tr th {\n",
       "        vertical-align: top;\n",
       "    }\n",
       "\n",
       "    .dataframe thead th {\n",
       "        text-align: right;\n",
       "    }\n",
       "</style>\n",
       "<table border=\"1\" class=\"dataframe\">\n",
       "  <thead>\n",
       "    <tr style=\"text-align: right;\">\n",
       "      <th></th>\n",
       "      <th>text</th>\n",
       "      <th>disaster</th>\n",
       "    </tr>\n",
       "  </thead>\n",
       "  <tbody>\n",
       "    <tr>\n",
       "      <th>0</th>\n",
       "      <td>baytown pd  man sought after teen suspect kil...</td>\n",
       "      <td>0</td>\n",
       "    </tr>\n",
       "    <tr>\n",
       "      <th>1</th>\n",
       "      <td>amy st  houston  tx</td>\n",
       "      <td>0</td>\n",
       "    </tr>\n",
       "    <tr>\n",
       "      <th>2</th>\n",
       "      <td>crazy about this sisterhood  stephen f  austi...</td>\n",
       "      <td>0</td>\n",
       "    </tr>\n",
       "    <tr>\n",
       "      <th>3</th>\n",
       "      <td>drinking a steam punk rousing steam lager by ...</td>\n",
       "      <td>0</td>\n",
       "    </tr>\n",
       "    <tr>\n",
       "      <th>4</th>\n",
       "      <td>reposted with the right cosplayer this time  ...</td>\n",
       "      <td>0</td>\n",
       "    </tr>\n",
       "  </tbody>\n",
       "</table>\n",
       "</div>"
      ],
      "text/plain": [
       "                                                text  disaster\n",
       "0   baytown pd  man sought after teen suspect kil...         0\n",
       "1              amy st  houston  tx                           0\n",
       "2   crazy about this sisterhood  stephen f  austi...         0\n",
       "3   drinking a steam punk rousing steam lager by ...         0\n",
       "4   reposted with the right cosplayer this time  ...         0"
      ]
     },
     "execution_count": 392,
     "metadata": {},
     "output_type": "execute_result"
    }
   ],
   "source": [
    "combined_pre.head()"
   ]
  },
  {
   "cell_type": "code",
   "execution_count": 393,
   "metadata": {},
   "outputs": [
    {
     "data": {
      "text/plain": [
       "0    44896\n",
       "1    22231\n",
       "Name: disaster, dtype: int64"
      ]
     },
     "execution_count": 393,
     "metadata": {},
     "output_type": "execute_result"
    }
   ],
   "source": [
    "combined_post.disaster.value_counts()"
   ]
  },
  {
   "cell_type": "code",
   "execution_count": 394,
   "metadata": {
    "pycharm": {
     "is_executing": false,
     "metadata": false,
     "name": "#%%\n"
    }
   },
   "outputs": [
    {
     "data": {
      "text/plain": [
       "['earthquake', 'hurricane', 'fire', 'emergency', 'help']"
      ]
     },
     "execution_count": 394,
     "metadata": {},
     "output_type": "execute_result"
    }
   ],
   "source": [
    "disaster_keywords = []\n",
    "with open('./assets/disaster_keywords.txt') as f:\n",
    "    for phrase in f:\n",
    "        disaster_keywords.append(phrase.strip())\n",
    "disaster_keywords[:5]"
   ]
  },
  {
   "cell_type": "code",
   "execution_count": 395,
   "metadata": {},
   "outputs": [],
   "source": [
    "add_stop = ['rt', 'twitter', 'com', 'net', 'carr', 'irma', 'harvey',\n",
    "            'maria', 'carrfire', 'camp', 'campfire', 'woolsey', \n",
    "            'woolseyfire', 'prague', 'north', 'northbay', 'news',\n",
    "            'hurricaneirma', 'hurricaneharvey', 'hurricanemaria',\n",
    "            'headline', 'breaking']"
   ]
  },
  {
   "cell_type": "code",
   "execution_count": 396,
   "metadata": {},
   "outputs": [],
   "source": [
    "disaster_set = set(disaster_keywords)\n",
    "disaster_list = list(disaster_set)"
   ]
  },
  {
   "cell_type": "code",
   "execution_count": 397,
   "metadata": {},
   "outputs": [],
   "source": [
    "disaster_list.extend(add_stop)"
   ]
  },
  {
   "cell_type": "code",
   "execution_count": 398,
   "metadata": {},
   "outputs": [],
   "source": [
    "stopwords = nltk.corpus.stopwords.words('english')"
   ]
  },
  {
   "cell_type": "code",
   "execution_count": 399,
   "metadata": {},
   "outputs": [],
   "source": [
    "stopwords.extend(disaster_list)"
   ]
  },
  {
   "cell_type": "code",
   "execution_count": 400,
   "metadata": {},
   "outputs": [],
   "source": [
    "# Pickling the updated stopwords\n",
    "with open('./assets/stopwords.pkl', 'wb') as f:\n",
    "    pickle.dump(stopwords, f)"
   ]
  },
  {
   "cell_type": "code",
   "execution_count": 401,
   "metadata": {},
   "outputs": [],
   "source": [
    "combined_df = pd.concat([combined_pre, \n",
    "                        combined_post], \n",
    "                       ignore_index=True)"
   ]
  },
  {
   "cell_type": "code",
   "execution_count": 402,
   "metadata": {},
   "outputs": [
    {
     "data": {
      "text/plain": [
       "(98550, 2)"
      ]
     },
     "execution_count": 402,
     "metadata": {},
     "output_type": "execute_result"
    }
   ],
   "source": [
    "combined_df.shape"
   ]
  },
  {
   "cell_type": "code",
   "execution_count": 403,
   "metadata": {},
   "outputs": [
    {
     "data": {
      "text/html": [
       "<div>\n",
       "<style scoped>\n",
       "    .dataframe tbody tr th:only-of-type {\n",
       "        vertical-align: middle;\n",
       "    }\n",
       "\n",
       "    .dataframe tbody tr th {\n",
       "        vertical-align: top;\n",
       "    }\n",
       "\n",
       "    .dataframe thead th {\n",
       "        text-align: right;\n",
       "    }\n",
       "</style>\n",
       "<table border=\"1\" class=\"dataframe\">\n",
       "  <thead>\n",
       "    <tr style=\"text-align: right;\">\n",
       "      <th></th>\n",
       "      <th>text</th>\n",
       "      <th>disaster</th>\n",
       "    </tr>\n",
       "  </thead>\n",
       "  <tbody>\n",
       "    <tr>\n",
       "      <th>0</th>\n",
       "      <td>baytown pd  man sought after teen suspect kil...</td>\n",
       "      <td>0</td>\n",
       "    </tr>\n",
       "    <tr>\n",
       "      <th>1</th>\n",
       "      <td>amy st  houston  tx</td>\n",
       "      <td>0</td>\n",
       "    </tr>\n",
       "  </tbody>\n",
       "</table>\n",
       "</div>"
      ],
      "text/plain": [
       "                                                text  disaster\n",
       "0   baytown pd  man sought after teen suspect kil...         0\n",
       "1              amy st  houston  tx                           0"
      ]
     },
     "execution_count": 403,
     "metadata": {},
     "output_type": "execute_result"
    }
   ],
   "source": [
    "combined_df.head(2)"
   ]
  },
  {
   "cell_type": "code",
   "execution_count": 404,
   "metadata": {},
   "outputs": [
    {
     "data": {
      "text/plain": [
       "0    0.774419\n",
       "1    0.225581\n",
       "Name: disaster, dtype: float64"
      ]
     },
     "execution_count": 404,
     "metadata": {},
     "output_type": "execute_result"
    }
   ],
   "source": [
    "combined_df.disaster.value_counts(normalize=True)"
   ]
  },
  {
   "cell_type": "code",
   "execution_count": 405,
   "metadata": {},
   "outputs": [],
   "source": [
    "combined_df['char_count'] = combined_df.text.map(len)\n",
    "combined_df['word_count'] = combined_df.text.map(lambda x: len(x.split()))"
   ]
  },
  {
   "cell_type": "code",
   "execution_count": 406,
   "metadata": {},
   "outputs": [
    {
     "name": "stdout",
     "output_type": "stream",
     "text": [
      "(2, 4)\n"
     ]
    },
    {
     "data": {
      "text/html": [
       "<div>\n",
       "<style scoped>\n",
       "    .dataframe tbody tr th:only-of-type {\n",
       "        vertical-align: middle;\n",
       "    }\n",
       "\n",
       "    .dataframe tbody tr th {\n",
       "        vertical-align: top;\n",
       "    }\n",
       "\n",
       "    .dataframe thead th {\n",
       "        text-align: right;\n",
       "    }\n",
       "</style>\n",
       "<table border=\"1\" class=\"dataframe\">\n",
       "  <thead>\n",
       "    <tr style=\"text-align: right;\">\n",
       "      <th></th>\n",
       "      <th>text</th>\n",
       "      <th>disaster</th>\n",
       "      <th>char_count</th>\n",
       "      <th>word_count</th>\n",
       "    </tr>\n",
       "  </thead>\n",
       "  <tbody>\n",
       "    <tr>\n",
       "      <th>1459</th>\n",
       "      <td></td>\n",
       "      <td>0</td>\n",
       "      <td>2</td>\n",
       "      <td>0</td>\n",
       "    </tr>\n",
       "    <tr>\n",
       "      <th>31727</th>\n",
       "      <td></td>\n",
       "      <td>0</td>\n",
       "      <td>2</td>\n",
       "      <td>0</td>\n",
       "    </tr>\n",
       "  </tbody>\n",
       "</table>\n",
       "</div>"
      ],
      "text/plain": [
       "      text  disaster  char_count  word_count\n",
       "1459               0           2           0\n",
       "31727              0           2           0"
      ]
     },
     "execution_count": 406,
     "metadata": {},
     "output_type": "execute_result"
    }
   ],
   "source": [
    "print(combined_df[combined_df['char_count'] < 5].shape)\n",
    "combined_df[combined_df['char_count'] < 5].head()"
   ]
  },
  {
   "cell_type": "code",
   "execution_count": 407,
   "metadata": {},
   "outputs": [
    {
     "name": "stdout",
     "output_type": "stream",
     "text": [
      "(102, 4)\n"
     ]
    },
    {
     "data": {
      "text/html": [
       "<div>\n",
       "<style scoped>\n",
       "    .dataframe tbody tr th:only-of-type {\n",
       "        vertical-align: middle;\n",
       "    }\n",
       "\n",
       "    .dataframe tbody tr th {\n",
       "        vertical-align: top;\n",
       "    }\n",
       "\n",
       "    .dataframe thead th {\n",
       "        text-align: right;\n",
       "    }\n",
       "</style>\n",
       "<table border=\"1\" class=\"dataframe\">\n",
       "  <thead>\n",
       "    <tr style=\"text-align: right;\">\n",
       "      <th></th>\n",
       "      <th>text</th>\n",
       "      <th>disaster</th>\n",
       "      <th>char_count</th>\n",
       "      <th>word_count</th>\n",
       "    </tr>\n",
       "  </thead>\n",
       "  <tbody>\n",
       "    <tr>\n",
       "      <th>304</th>\n",
       "      <td>...</td>\n",
       "      <td>0</td>\n",
       "      <td>147</td>\n",
       "      <td>0</td>\n",
       "    </tr>\n",
       "    <tr>\n",
       "      <th>1157</th>\n",
       "      <td>wednesday</td>\n",
       "      <td>0</td>\n",
       "      <td>23</td>\n",
       "      <td>1</td>\n",
       "    </tr>\n",
       "    <tr>\n",
       "      <th>1344</th>\n",
       "      <td>wowwwwwww</td>\n",
       "      <td>0</td>\n",
       "      <td>11</td>\n",
       "      <td>1</td>\n",
       "    </tr>\n",
       "    <tr>\n",
       "      <th>1459</th>\n",
       "      <td></td>\n",
       "      <td>0</td>\n",
       "      <td>2</td>\n",
       "      <td>0</td>\n",
       "    </tr>\n",
       "    <tr>\n",
       "      <th>2442</th>\n",
       "      <td>tuesday</td>\n",
       "      <td>0</td>\n",
       "      <td>22</td>\n",
       "      <td>1</td>\n",
       "    </tr>\n",
       "  </tbody>\n",
       "</table>\n",
       "</div>"
      ],
      "text/plain": [
       "                                                   text  disaster  char_count  \\\n",
       "304                                                 ...         0         147   \n",
       "1157                             wednesday                      0          23   \n",
       "1344                                         wowwwwwww          0          11   \n",
       "1459                                                            0           2   \n",
       "2442                              tuesday                       0          22   \n",
       "\n",
       "      word_count  \n",
       "304            0  \n",
       "1157           1  \n",
       "1344           1  \n",
       "1459           0  \n",
       "2442           1  "
      ]
     },
     "execution_count": 407,
     "metadata": {},
     "output_type": "execute_result"
    }
   ],
   "source": [
    "print(combined_df[combined_df['word_count'] < 2].shape)\n",
    "combined_df[combined_df['word_count'] < 2].head()"
   ]
  },
  {
   "cell_type": "code",
   "execution_count": 408,
   "metadata": {},
   "outputs": [
    {
     "data": {
      "text/html": [
       "<div>\n",
       "<style scoped>\n",
       "    .dataframe tbody tr th:only-of-type {\n",
       "        vertical-align: middle;\n",
       "    }\n",
       "\n",
       "    .dataframe tbody tr th {\n",
       "        vertical-align: top;\n",
       "    }\n",
       "\n",
       "    .dataframe thead th {\n",
       "        text-align: right;\n",
       "    }\n",
       "</style>\n",
       "<table border=\"1\" class=\"dataframe\">\n",
       "  <thead>\n",
       "    <tr style=\"text-align: right;\">\n",
       "      <th></th>\n",
       "      <th>text</th>\n",
       "      <th>disaster</th>\n",
       "      <th>char_count</th>\n",
       "      <th>word_count</th>\n",
       "    </tr>\n",
       "  </thead>\n",
       "  <tbody>\n",
       "    <tr>\n",
       "      <th>83660</th>\n",
       "      <td>reaaaaaalllllll</td>\n",
       "      <td>0</td>\n",
       "      <td>18</td>\n",
       "      <td>1</td>\n",
       "    </tr>\n",
       "    <tr>\n",
       "      <th>83747</th>\n",
       "      <td>overwhelmed</td>\n",
       "      <td>0</td>\n",
       "      <td>14</td>\n",
       "      <td>1</td>\n",
       "    </tr>\n",
       "    <tr>\n",
       "      <th>84853</th>\n",
       "      <td>test</td>\n",
       "      <td>0</td>\n",
       "      <td>6</td>\n",
       "      <td>1</td>\n",
       "    </tr>\n",
       "    <tr>\n",
       "      <th>84975</th>\n",
       "      <td>toeback</td>\n",
       "      <td>0</td>\n",
       "      <td>9</td>\n",
       "      <td>1</td>\n",
       "    </tr>\n",
       "    <tr>\n",
       "      <th>85864</th>\n",
       "      <td>earthquake</td>\n",
       "      <td>1</td>\n",
       "      <td>16</td>\n",
       "      <td>1</td>\n",
       "    </tr>\n",
       "  </tbody>\n",
       "</table>\n",
       "</div>"
      ],
      "text/plain": [
       "                     text  disaster  char_count  word_count\n",
       "83660   reaaaaaalllllll           0          18           1\n",
       "83747       overwhelmed           0          14           1\n",
       "84853               test          0           6           1\n",
       "84975            toeback          0           9           1\n",
       "85864     earthquake              1          16           1"
      ]
     },
     "execution_count": 408,
     "metadata": {},
     "output_type": "execute_result"
    }
   ],
   "source": [
    "combined_df[combined_df['word_count'] < 2].tail()"
   ]
  },
  {
   "cell_type": "code",
   "execution_count": 409,
   "metadata": {},
   "outputs": [],
   "source": [
    "two_words_df = combined_df[combined_df['word_count'] < 2]"
   ]
  },
  {
   "cell_type": "code",
   "execution_count": 410,
   "metadata": {},
   "outputs": [
    {
     "data": {
      "text/plain": [
       "Int64Index([83576, 85864], dtype='int64')"
      ]
     },
     "execution_count": 410,
     "metadata": {},
     "output_type": "execute_result"
    }
   ],
   "source": [
    "two_words_df[two_words_df.disaster ==1].index"
   ]
  },
  {
   "cell_type": "code",
   "execution_count": 411,
   "metadata": {},
   "outputs": [
    {
     "name": "stderr",
     "output_type": "stream",
     "text": [
      "/Users/jameslee/anaconda3/lib/python3.6/site-packages/pandas/core/frame.py:3940: SettingWithCopyWarning: \n",
      "A value is trying to be set on a copy of a slice from a DataFrame\n",
      "\n",
      "See the caveats in the documentation: http://pandas.pydata.org/pandas-docs/stable/indexing.html#indexing-view-versus-copy\n",
      "  errors=errors)\n"
     ]
    }
   ],
   "source": [
    "two_words_df.drop(two_words_df[two_words_df.disaster ==1].index, 0, inplace=True)"
   ]
  },
  {
   "cell_type": "code",
   "execution_count": 412,
   "metadata": {},
   "outputs": [
    {
     "data": {
      "text/plain": [
       "Int64Index([  304,  1157,  1344,  1459,  2442,  2818,  2845,  3351,  3934,\n",
       "             4079,  4875,  5156,  5167,  5170,  5212,  5388,  5401,  5559,\n",
       "             5904,  6084,  6128,  6216,  6429,  6648,  6701,  6832,  7354,\n",
       "             7701, 17342, 17507, 19272, 20443, 20682, 21416, 21788, 23625,\n",
       "            24127, 24925, 25020, 25178, 27028, 27524, 28032, 30214, 31727,\n",
       "            32227, 32553, 32566, 32679, 34170, 34566, 34567, 35139, 35423,\n",
       "            35669, 36176, 36705, 36938, 36940, 37560, 38524, 38563, 39040,\n",
       "            39226, 39776, 39878, 40371, 40386, 40554, 40579, 40870, 40887,\n",
       "            41681, 41805, 43252, 66972, 71493, 71794, 71802, 72054, 72074,\n",
       "            72569, 72607, 72613, 72836, 73428, 73473, 73516, 76760, 76837,\n",
       "            76942, 77164, 77402, 77800, 78168, 79674, 83660, 83747, 84853,\n",
       "            84975],\n",
       "           dtype='int64')"
      ]
     },
     "execution_count": 412,
     "metadata": {},
     "output_type": "execute_result"
    }
   ],
   "source": [
    "two_words_df.index"
   ]
  },
  {
   "cell_type": "code",
   "execution_count": 413,
   "metadata": {},
   "outputs": [],
   "source": [
    "combined_df.drop(two_words_df.index, 0, inplace=True)"
   ]
  },
  {
   "cell_type": "code",
   "execution_count": 414,
   "metadata": {},
   "outputs": [],
   "source": [
    "combined_df.drop(combined_df[combined_df['char_count'] < 5].index, 0, inplace=True)"
   ]
  },
  {
   "cell_type": "code",
   "execution_count": 415,
   "metadata": {},
   "outputs": [
    {
     "data": {
      "text/plain": [
       "(98450, 4)"
      ]
     },
     "execution_count": 415,
     "metadata": {},
     "output_type": "execute_result"
    }
   ],
   "source": [
    "combined_df.shape"
   ]
  },
  {
   "cell_type": "code",
   "execution_count": 416,
   "metadata": {},
   "outputs": [],
   "source": [
    "y = combined_df['disaster']\n",
    "\n",
    "# Set X as text column.\n",
    "X = combined_df['text']"
   ]
  },
  {
   "cell_type": "code",
   "execution_count": 417,
   "metadata": {},
   "outputs": [],
   "source": [
    "# Train/test split our data.\n",
    "X_train, X_test, y_train, y_test = train_test_split(X,\n",
    "                                                    y,\n",
    "                                                    test_size = 0.30,\n",
    "                                                    random_state = 42)"
   ]
  },
  {
   "cell_type": "code",
   "execution_count": 418,
   "metadata": {},
   "outputs": [],
   "source": [
    "tfidf = TfidfVectorizer(stop_words = stopwords, \n",
    "                        max_df=0.95, \n",
    "                        min_df=5, max_features=500)"
   ]
  },
  {
   "cell_type": "code",
   "execution_count": 419,
   "metadata": {},
   "outputs": [
    {
     "name": "stderr",
     "output_type": "stream",
     "text": [
      "/Users/jameslee/anaconda3/lib/python3.6/site-packages/sklearn/feature_extraction/text.py:301: UserWarning: Your stop_words may be inconsistent with your preprocessing. Tokenizing the stop words generated tokens ['beaufort', 'bermuda', 'dust', 'high', 'low', 'pressure', 'richter', 'scale', 'triangle', 'vane', 'violent'] not in stop_words.\n",
      "  'stop_words.' % sorted(inconsistent))\n"
     ]
    }
   ],
   "source": [
    "X_train_tfidf = tfidf.fit_transform(X_train)\n",
    "X_test_tfidf = tfidf.transform(X_test)"
   ]
  },
  {
   "cell_type": "code",
   "execution_count": 420,
   "metadata": {},
   "outputs": [],
   "source": [
    "from sklearn.linear_model import LogisticRegression"
   ]
  },
  {
   "cell_type": "code",
   "execution_count": 421,
   "metadata": {},
   "outputs": [
    {
     "name": "stderr",
     "output_type": "stream",
     "text": [
      "/Users/jameslee/anaconda3/lib/python3.6/site-packages/sklearn/linear_model/logistic.py:433: FutureWarning: Default solver will be changed to 'lbfgs' in 0.22. Specify a solver to silence this warning.\n",
      "  FutureWarning)\n"
     ]
    }
   ],
   "source": [
    "logreg = LogisticRegression()\n",
    "model = logreg.fit(X_train_tfidf,y_train)"
   ]
  },
  {
   "cell_type": "code",
   "execution_count": 422,
   "metadata": {},
   "outputs": [
    {
     "data": {
      "text/plain": [
       "0.8397881448160778"
      ]
     },
     "execution_count": 422,
     "metadata": {},
     "output_type": "execute_result"
    }
   ],
   "source": [
    "model.score(X_train_tfidf, y_train)"
   ]
  },
  {
   "cell_type": "code",
   "execution_count": 423,
   "metadata": {},
   "outputs": [
    {
     "data": {
      "text/plain": [
       "0.8415439309294058"
      ]
     },
     "execution_count": 423,
     "metadata": {},
     "output_type": "execute_result"
    }
   ],
   "source": [
    "model.score(X_test_tfidf, y_test)"
   ]
  },
  {
   "cell_type": "markdown",
   "metadata": {},
   "source": [
    "----"
   ]
  },
  {
   "cell_type": "code",
   "execution_count": null,
   "metadata": {},
   "outputs": [],
   "source": []
  },
  {
   "cell_type": "code",
   "execution_count": 424,
   "metadata": {},
   "outputs": [],
   "source": [
    "X_train_df_tfidf = pd.SparseDataFrame(X_train_tfidf,\n",
    "                             columns=tfidf.get_feature_names())"
   ]
  },
  {
   "cell_type": "code",
   "execution_count": 425,
   "metadata": {},
   "outputs": [
    {
     "data": {
      "text/plain": [
       "(68915, 500)"
      ]
     },
     "execution_count": 425,
     "metadata": {},
     "output_type": "execute_result"
    }
   ],
   "source": [
    "X_train_df_tfidf.shape"
   ]
  },
  {
   "cell_type": "code",
   "execution_count": 426,
   "metadata": {},
   "outputs": [],
   "source": [
    "X_test_df_tfidf = pd.SparseDataFrame(X_test_tfidf,\n",
    "                                    columns=tfidf.get_feature_names())"
   ]
  },
  {
   "cell_type": "code",
   "execution_count": 427,
   "metadata": {},
   "outputs": [
    {
     "data": {
      "text/plain": [
       "(29535, 500)"
      ]
     },
     "execution_count": 427,
     "metadata": {},
     "output_type": "execute_result"
    }
   ],
   "source": [
    "X_test_df_tfidf.shape"
   ]
  },
  {
   "cell_type": "code",
   "execution_count": 428,
   "metadata": {},
   "outputs": [],
   "source": [
    "import sys"
   ]
  },
  {
   "cell_type": "code",
   "execution_count": 429,
   "metadata": {},
   "outputs": [
    {
     "data": {
      "text/plain": [
       "0.004986408"
      ]
     },
     "execution_count": 429,
     "metadata": {},
     "output_type": "execute_result"
    }
   ],
   "source": [
    "sys.getsizeof(X_train_df_tfidf) * 1e-9"
   ]
  },
  {
   "cell_type": "code",
   "execution_count": 430,
   "metadata": {},
   "outputs": [
    {
     "data": {
      "text/html": [
       "<div>\n",
       "<style scoped>\n",
       "    .dataframe tbody tr th:only-of-type {\n",
       "        vertical-align: middle;\n",
       "    }\n",
       "\n",
       "    .dataframe tbody tr th {\n",
       "        vertical-align: top;\n",
       "    }\n",
       "\n",
       "    .dataframe thead th {\n",
       "        text-align: right;\n",
       "    }\n",
       "</style>\n",
       "<table border=\"1\" class=\"dataframe\">\n",
       "  <thead>\n",
       "    <tr style=\"text-align: right;\">\n",
       "      <th></th>\n",
       "      <th>abc</th>\n",
       "      <th>accident</th>\n",
       "      <th>across</th>\n",
       "      <th>actually</th>\n",
       "      <th>affected</th>\n",
       "      <th>aftermath</th>\n",
       "      <th>ago</th>\n",
       "      <th>ahead</th>\n",
       "      <th>al</th>\n",
       "      <th>already</th>\n",
       "      <th>...</th>\n",
       "      <th>would</th>\n",
       "      <th>wow</th>\n",
       "      <th>ya</th>\n",
       "      <th>year</th>\n",
       "      <th>years</th>\n",
       "      <th>yes</th>\n",
       "      <th>yesterday</th>\n",
       "      <th>yet</th>\n",
       "      <th>york</th>\n",
       "      <th>youtube</th>\n",
       "    </tr>\n",
       "  </thead>\n",
       "  <tbody>\n",
       "    <tr>\n",
       "      <th>0</th>\n",
       "      <td>NaN</td>\n",
       "      <td>NaN</td>\n",
       "      <td>NaN</td>\n",
       "      <td>NaN</td>\n",
       "      <td>NaN</td>\n",
       "      <td>NaN</td>\n",
       "      <td>NaN</td>\n",
       "      <td>NaN</td>\n",
       "      <td>NaN</td>\n",
       "      <td>NaN</td>\n",
       "      <td>...</td>\n",
       "      <td>NaN</td>\n",
       "      <td>NaN</td>\n",
       "      <td>NaN</td>\n",
       "      <td>NaN</td>\n",
       "      <td>NaN</td>\n",
       "      <td>NaN</td>\n",
       "      <td>NaN</td>\n",
       "      <td>NaN</td>\n",
       "      <td>NaN</td>\n",
       "      <td>NaN</td>\n",
       "    </tr>\n",
       "    <tr>\n",
       "      <th>1</th>\n",
       "      <td>NaN</td>\n",
       "      <td>NaN</td>\n",
       "      <td>NaN</td>\n",
       "      <td>NaN</td>\n",
       "      <td>NaN</td>\n",
       "      <td>NaN</td>\n",
       "      <td>NaN</td>\n",
       "      <td>NaN</td>\n",
       "      <td>NaN</td>\n",
       "      <td>NaN</td>\n",
       "      <td>...</td>\n",
       "      <td>NaN</td>\n",
       "      <td>NaN</td>\n",
       "      <td>NaN</td>\n",
       "      <td>NaN</td>\n",
       "      <td>NaN</td>\n",
       "      <td>NaN</td>\n",
       "      <td>NaN</td>\n",
       "      <td>NaN</td>\n",
       "      <td>NaN</td>\n",
       "      <td>NaN</td>\n",
       "    </tr>\n",
       "    <tr>\n",
       "      <th>2</th>\n",
       "      <td>NaN</td>\n",
       "      <td>NaN</td>\n",
       "      <td>NaN</td>\n",
       "      <td>NaN</td>\n",
       "      <td>NaN</td>\n",
       "      <td>NaN</td>\n",
       "      <td>NaN</td>\n",
       "      <td>NaN</td>\n",
       "      <td>NaN</td>\n",
       "      <td>0.444824</td>\n",
       "      <td>...</td>\n",
       "      <td>NaN</td>\n",
       "      <td>NaN</td>\n",
       "      <td>NaN</td>\n",
       "      <td>NaN</td>\n",
       "      <td>NaN</td>\n",
       "      <td>NaN</td>\n",
       "      <td>NaN</td>\n",
       "      <td>NaN</td>\n",
       "      <td>NaN</td>\n",
       "      <td>NaN</td>\n",
       "    </tr>\n",
       "    <tr>\n",
       "      <th>3</th>\n",
       "      <td>NaN</td>\n",
       "      <td>NaN</td>\n",
       "      <td>NaN</td>\n",
       "      <td>NaN</td>\n",
       "      <td>NaN</td>\n",
       "      <td>NaN</td>\n",
       "      <td>NaN</td>\n",
       "      <td>NaN</td>\n",
       "      <td>NaN</td>\n",
       "      <td>0.222866</td>\n",
       "      <td>...</td>\n",
       "      <td>NaN</td>\n",
       "      <td>NaN</td>\n",
       "      <td>NaN</td>\n",
       "      <td>NaN</td>\n",
       "      <td>NaN</td>\n",
       "      <td>NaN</td>\n",
       "      <td>NaN</td>\n",
       "      <td>NaN</td>\n",
       "      <td>NaN</td>\n",
       "      <td>NaN</td>\n",
       "    </tr>\n",
       "    <tr>\n",
       "      <th>4</th>\n",
       "      <td>NaN</td>\n",
       "      <td>NaN</td>\n",
       "      <td>NaN</td>\n",
       "      <td>NaN</td>\n",
       "      <td>0.39877</td>\n",
       "      <td>NaN</td>\n",
       "      <td>NaN</td>\n",
       "      <td>NaN</td>\n",
       "      <td>NaN</td>\n",
       "      <td>NaN</td>\n",
       "      <td>...</td>\n",
       "      <td>NaN</td>\n",
       "      <td>NaN</td>\n",
       "      <td>NaN</td>\n",
       "      <td>NaN</td>\n",
       "      <td>NaN</td>\n",
       "      <td>NaN</td>\n",
       "      <td>NaN</td>\n",
       "      <td>NaN</td>\n",
       "      <td>NaN</td>\n",
       "      <td>NaN</td>\n",
       "    </tr>\n",
       "  </tbody>\n",
       "</table>\n",
       "<p>5 rows × 500 columns</p>\n",
       "</div>"
      ],
      "text/plain": [
       "   abc  accident  across  actually  affected  aftermath  ago  ahead  al  \\\n",
       "0  NaN       NaN     NaN       NaN       NaN        NaN  NaN    NaN NaN   \n",
       "1  NaN       NaN     NaN       NaN       NaN        NaN  NaN    NaN NaN   \n",
       "2  NaN       NaN     NaN       NaN       NaN        NaN  NaN    NaN NaN   \n",
       "3  NaN       NaN     NaN       NaN       NaN        NaN  NaN    NaN NaN   \n",
       "4  NaN       NaN     NaN       NaN   0.39877        NaN  NaN    NaN NaN   \n",
       "\n",
       "    already  ...  would  wow  ya  year  years  yes  yesterday  yet  york  \\\n",
       "0       NaN  ...    NaN  NaN NaN   NaN    NaN  NaN        NaN  NaN   NaN   \n",
       "1       NaN  ...    NaN  NaN NaN   NaN    NaN  NaN        NaN  NaN   NaN   \n",
       "2  0.444824  ...    NaN  NaN NaN   NaN    NaN  NaN        NaN  NaN   NaN   \n",
       "3  0.222866  ...    NaN  NaN NaN   NaN    NaN  NaN        NaN  NaN   NaN   \n",
       "4       NaN  ...    NaN  NaN NaN   NaN    NaN  NaN        NaN  NaN   NaN   \n",
       "\n",
       "   youtube  \n",
       "0      NaN  \n",
       "1      NaN  \n",
       "2      NaN  \n",
       "3      NaN  \n",
       "4      NaN  \n",
       "\n",
       "[5 rows x 500 columns]"
      ]
     },
     "execution_count": 430,
     "metadata": {},
     "output_type": "execute_result"
    }
   ],
   "source": [
    "X_train_df_tfidf.head()"
   ]
  },
  {
   "cell_type": "code",
   "execution_count": null,
   "metadata": {},
   "outputs": [],
   "source": []
  },
  {
   "cell_type": "code",
   "execution_count": 431,
   "metadata": {},
   "outputs": [],
   "source": [
    "X_train_df_tfidf.fillna(0, inplace=True)"
   ]
  },
  {
   "cell_type": "code",
   "execution_count": 432,
   "metadata": {},
   "outputs": [],
   "source": [
    "X_test_df_tfidf.fillna(0, inplace=True)"
   ]
  },
  {
   "cell_type": "code",
   "execution_count": 433,
   "metadata": {},
   "outputs": [
    {
     "data": {
      "text/plain": [
       "florida       5508.836902\n",
       "keys          4995.398172\n",
       "pic           3383.051891\n",
       "houston       2254.098167\n",
       "california    1952.969210\n",
       "oaks          1859.070672\n",
       "thousand      1743.845329\n",
       "key           1510.169790\n",
       "shooting      1238.042888\n",
       "texas         1212.834960\n",
       "west          1073.688589\n",
       "people        1068.692846\n",
       "bar           1046.618809\n",
       "like           882.524846\n",
       "via            827.025529\n",
       "get            781.858048\n",
       "love           768.863153\n",
       "one            733.894448\n",
       "day            730.429141\n",
       "landfall       717.231475\n",
       "dtype: float64"
      ]
     },
     "execution_count": 433,
     "metadata": {},
     "output_type": "execute_result"
    }
   ],
   "source": [
    "X_train_df_tfidf.sum().sort_values(ascending = False).head(20)"
   ]
  },
  {
   "cell_type": "code",
   "execution_count": 434,
   "metadata": {},
   "outputs": [
    {
     "data": {
      "text/plain": [
       "(68915,)"
      ]
     },
     "execution_count": 434,
     "metadata": {},
     "output_type": "execute_result"
    }
   ],
   "source": [
    "y_train.shape"
   ]
  },
  {
   "cell_type": "code",
   "execution_count": 435,
   "metadata": {},
   "outputs": [
    {
     "data": {
      "text/plain": [
       "(68915, 500)"
      ]
     },
     "execution_count": 435,
     "metadata": {},
     "output_type": "execute_result"
    }
   ],
   "source": [
    "X_train_df_tfidf.shape"
   ]
  },
  {
   "cell_type": "code",
   "execution_count": 437,
   "metadata": {},
   "outputs": [],
   "source": [
    "X_train_array = np.asarray(X_train_df_tfidf)"
   ]
  },
  {
   "cell_type": "code",
   "execution_count": 438,
   "metadata": {},
   "outputs": [],
   "source": [
    "X_test_array = np.asanyarray(X_test_df_tfidf)"
   ]
  },
  {
   "cell_type": "code",
   "execution_count": null,
   "metadata": {},
   "outputs": [],
   "source": []
  },
  {
   "cell_type": "code",
   "execution_count": 439,
   "metadata": {},
   "outputs": [
    {
     "data": {
      "text/plain": [
       "112"
      ]
     },
     "execution_count": 439,
     "metadata": {},
     "output_type": "execute_result"
    }
   ],
   "source": [
    "sys.getsizeof(X_train_array)"
   ]
  },
  {
   "cell_type": "code",
   "execution_count": 440,
   "metadata": {},
   "outputs": [
    {
     "data": {
      "text/plain": [
       "1.1200000000000001e-07"
      ]
     },
     "execution_count": 440,
     "metadata": {},
     "output_type": "execute_result"
    }
   ],
   "source": [
    "sys.getsizeof(X_train_array) * 1e-9"
   ]
  },
  {
   "cell_type": "code",
   "execution_count": 441,
   "metadata": {},
   "outputs": [],
   "source": [
    "# Train/test split our data.\n",
    "# X_train, X_test, y_train, y_test = train_test_split(X,\n",
    "#                                                     y,\n",
    "#                                                     test_size = 0.33,\n",
    "#                                                     random_state = 42)"
   ]
  },
  {
   "cell_type": "code",
   "execution_count": 442,
   "metadata": {},
   "outputs": [],
   "source": [
    "# Import PCA.\n",
    "from sklearn.decomposition import PCA"
   ]
  },
  {
   "cell_type": "code",
   "execution_count": 443,
   "metadata": {},
   "outputs": [],
   "source": [
    "# Instantiate PCA.\n",
    "pca = PCA(n_components=100)"
   ]
  },
  {
   "cell_type": "markdown",
   "metadata": {},
   "source": [
    "---"
   ]
  },
  {
   "cell_type": "code",
   "execution_count": 444,
   "metadata": {},
   "outputs": [
    {
     "data": {
      "text/plain": [
       "(68915, 500)"
      ]
     },
     "execution_count": 444,
     "metadata": {},
     "output_type": "execute_result"
    }
   ],
   "source": [
    "pd.DataFrame(X_train_array).shape"
   ]
  },
  {
   "cell_type": "code",
   "execution_count": 446,
   "metadata": {},
   "outputs": [],
   "source": [
    "# Fit PCA on the training data.\n",
    "Z_train = pca.fit_transform(X_train_array)\n",
    "\n",
    "# n_component will default to number of features in this case 9999 features."
   ]
  },
  {
   "cell_type": "code",
   "execution_count": null,
   "metadata": {},
   "outputs": [],
   "source": []
  },
  {
   "cell_type": "code",
   "execution_count": 448,
   "metadata": {},
   "outputs": [
    {
     "data": {
      "text/html": [
       "<div>\n",
       "<style scoped>\n",
       "    .dataframe tbody tr th:only-of-type {\n",
       "        vertical-align: middle;\n",
       "    }\n",
       "\n",
       "    .dataframe tbody tr th {\n",
       "        vertical-align: top;\n",
       "    }\n",
       "\n",
       "    .dataframe thead th {\n",
       "        text-align: right;\n",
       "    }\n",
       "</style>\n",
       "<table border=\"1\" class=\"dataframe\">\n",
       "  <thead>\n",
       "    <tr style=\"text-align: right;\">\n",
       "      <th></th>\n",
       "      <th>0</th>\n",
       "      <th>1</th>\n",
       "      <th>2</th>\n",
       "      <th>3</th>\n",
       "      <th>4</th>\n",
       "      <th>5</th>\n",
       "      <th>6</th>\n",
       "      <th>7</th>\n",
       "      <th>8</th>\n",
       "      <th>9</th>\n",
       "      <th>...</th>\n",
       "      <th>90</th>\n",
       "      <th>91</th>\n",
       "      <th>92</th>\n",
       "      <th>93</th>\n",
       "      <th>94</th>\n",
       "      <th>95</th>\n",
       "      <th>96</th>\n",
       "      <th>97</th>\n",
       "      <th>98</th>\n",
       "      <th>99</th>\n",
       "    </tr>\n",
       "  </thead>\n",
       "  <tbody>\n",
       "    <tr>\n",
       "      <th>count</th>\n",
       "      <td>6.891500e+04</td>\n",
       "      <td>6.891500e+04</td>\n",
       "      <td>6.891500e+04</td>\n",
       "      <td>6.891500e+04</td>\n",
       "      <td>6.891500e+04</td>\n",
       "      <td>6.891500e+04</td>\n",
       "      <td>6.891500e+04</td>\n",
       "      <td>6.891500e+04</td>\n",
       "      <td>6.891500e+04</td>\n",
       "      <td>6.891500e+04</td>\n",
       "      <td>...</td>\n",
       "      <td>6.891500e+04</td>\n",
       "      <td>6.891500e+04</td>\n",
       "      <td>6.891500e+04</td>\n",
       "      <td>6.891500e+04</td>\n",
       "      <td>6.891500e+04</td>\n",
       "      <td>6.891500e+04</td>\n",
       "      <td>6.891500e+04</td>\n",
       "      <td>6.891500e+04</td>\n",
       "      <td>6.891500e+04</td>\n",
       "      <td>6.891500e+04</td>\n",
       "    </tr>\n",
       "    <tr>\n",
       "      <th>mean</th>\n",
       "      <td>-1.153781e-17</td>\n",
       "      <td>-1.290535e-17</td>\n",
       "      <td>-1.917953e-17</td>\n",
       "      <td>-6.627346e-17</td>\n",
       "      <td>6.254620e-18</td>\n",
       "      <td>1.124638e-17</td>\n",
       "      <td>-8.498345e-18</td>\n",
       "      <td>-9.495934e-18</td>\n",
       "      <td>-2.757494e-17</td>\n",
       "      <td>2.646587e-17</td>\n",
       "      <td>...</td>\n",
       "      <td>5.616159e-18</td>\n",
       "      <td>-7.270632e-18</td>\n",
       "      <td>5.948114e-18</td>\n",
       "      <td>1.501310e-17</td>\n",
       "      <td>-5.708647e-19</td>\n",
       "      <td>-2.441935e-17</td>\n",
       "      <td>3.754462e-18</td>\n",
       "      <td>-1.188479e-17</td>\n",
       "      <td>-7.461822e-18</td>\n",
       "      <td>1.719229e-17</td>\n",
       "    </tr>\n",
       "    <tr>\n",
       "      <th>std</th>\n",
       "      <td>1.950897e-01</td>\n",
       "      <td>1.590474e-01</td>\n",
       "      <td>1.369968e-01</td>\n",
       "      <td>1.358105e-01</td>\n",
       "      <td>1.141507e-01</td>\n",
       "      <td>8.879627e-02</td>\n",
       "      <td>8.734577e-02</td>\n",
       "      <td>8.456928e-02</td>\n",
       "      <td>8.238493e-02</td>\n",
       "      <td>8.111299e-02</td>\n",
       "      <td>...</td>\n",
       "      <td>4.738233e-02</td>\n",
       "      <td>4.716471e-02</td>\n",
       "      <td>4.702977e-02</td>\n",
       "      <td>4.693216e-02</td>\n",
       "      <td>4.673696e-02</td>\n",
       "      <td>4.665133e-02</td>\n",
       "      <td>4.643933e-02</td>\n",
       "      <td>4.624147e-02</td>\n",
       "      <td>4.590046e-02</td>\n",
       "      <td>4.578942e-02</td>\n",
       "    </tr>\n",
       "    <tr>\n",
       "      <th>min</th>\n",
       "      <td>-4.047850e-01</td>\n",
       "      <td>-6.173520e-01</td>\n",
       "      <td>-2.803340e-01</td>\n",
       "      <td>-2.071566e-01</td>\n",
       "      <td>-2.471450e-01</td>\n",
       "      <td>-6.575909e-01</td>\n",
       "      <td>-2.324770e-01</td>\n",
       "      <td>-3.536233e-01</td>\n",
       "      <td>-2.841815e-01</td>\n",
       "      <td>-1.439603e-01</td>\n",
       "      <td>...</td>\n",
       "      <td>-2.991119e-01</td>\n",
       "      <td>-3.320737e-01</td>\n",
       "      <td>-2.053108e-01</td>\n",
       "      <td>-3.122777e-01</td>\n",
       "      <td>-2.928082e-01</td>\n",
       "      <td>-2.565591e-01</td>\n",
       "      <td>-3.145323e-01</td>\n",
       "      <td>-3.454734e-01</td>\n",
       "      <td>-2.535623e-01</td>\n",
       "      <td>-2.768302e-01</td>\n",
       "    </tr>\n",
       "    <tr>\n",
       "      <th>25%</th>\n",
       "      <td>-9.586957e-02</td>\n",
       "      <td>-2.203766e-02</td>\n",
       "      <td>-7.225969e-02</td>\n",
       "      <td>-1.034573e-01</td>\n",
       "      <td>-4.594710e-02</td>\n",
       "      <td>-7.450064e-03</td>\n",
       "      <td>-2.926973e-02</td>\n",
       "      <td>-1.967890e-02</td>\n",
       "      <td>-2.138716e-02</td>\n",
       "      <td>-2.390022e-02</td>\n",
       "      <td>...</td>\n",
       "      <td>-1.981344e-02</td>\n",
       "      <td>-1.965677e-02</td>\n",
       "      <td>-2.012634e-02</td>\n",
       "      <td>-1.816439e-02</td>\n",
       "      <td>-1.905791e-02</td>\n",
       "      <td>-1.846860e-02</td>\n",
       "      <td>-1.625763e-02</td>\n",
       "      <td>-1.836368e-02</td>\n",
       "      <td>-1.810168e-02</td>\n",
       "      <td>-1.975214e-02</td>\n",
       "    </tr>\n",
       "    <tr>\n",
       "      <th>50%</th>\n",
       "      <td>-7.870482e-02</td>\n",
       "      <td>1.543027e-02</td>\n",
       "      <td>1.055680e-03</td>\n",
       "      <td>-3.106459e-02</td>\n",
       "      <td>-3.004105e-02</td>\n",
       "      <td>-1.277166e-03</td>\n",
       "      <td>-3.984634e-03</td>\n",
       "      <td>8.241289e-04</td>\n",
       "      <td>-9.805405e-03</td>\n",
       "      <td>-1.162660e-02</td>\n",
       "      <td>...</td>\n",
       "      <td>-2.484367e-03</td>\n",
       "      <td>-1.559305e-03</td>\n",
       "      <td>-3.563939e-03</td>\n",
       "      <td>-2.665563e-03</td>\n",
       "      <td>-5.081604e-04</td>\n",
       "      <td>-1.118077e-03</td>\n",
       "      <td>2.565205e-03</td>\n",
       "      <td>4.211355e-04</td>\n",
       "      <td>1.235113e-03</td>\n",
       "      <td>-1.083584e-03</td>\n",
       "    </tr>\n",
       "    <tr>\n",
       "      <th>75%</th>\n",
       "      <td>1.431100e-01</td>\n",
       "      <td>3.545562e-02</td>\n",
       "      <td>8.604402e-03</td>\n",
       "      <td>5.904711e-02</td>\n",
       "      <td>-1.501278e-03</td>\n",
       "      <td>2.889492e-03</td>\n",
       "      <td>3.547881e-03</td>\n",
       "      <td>1.309086e-02</td>\n",
       "      <td>1.081014e-03</td>\n",
       "      <td>3.084724e-03</td>\n",
       "      <td>...</td>\n",
       "      <td>1.858706e-02</td>\n",
       "      <td>1.766055e-02</td>\n",
       "      <td>1.595138e-02</td>\n",
       "      <td>1.505745e-02</td>\n",
       "      <td>1.688411e-02</td>\n",
       "      <td>1.987507e-02</td>\n",
       "      <td>1.829688e-02</td>\n",
       "      <td>1.865042e-02</td>\n",
       "      <td>1.774854e-02</td>\n",
       "      <td>2.128431e-02</td>\n",
       "    </tr>\n",
       "    <tr>\n",
       "      <th>max</th>\n",
       "      <td>7.854389e-01</td>\n",
       "      <td>7.017540e-01</td>\n",
       "      <td>9.202597e-01</td>\n",
       "      <td>6.233216e-01</td>\n",
       "      <td>8.853584e-01</td>\n",
       "      <td>7.033396e-01</td>\n",
       "      <td>7.496303e-01</td>\n",
       "      <td>8.292132e-01</td>\n",
       "      <td>8.534746e-01</td>\n",
       "      <td>9.130640e-01</td>\n",
       "      <td>...</td>\n",
       "      <td>3.185746e-01</td>\n",
       "      <td>3.367295e-01</td>\n",
       "      <td>5.350308e-01</td>\n",
       "      <td>4.238951e-01</td>\n",
       "      <td>3.370846e-01</td>\n",
       "      <td>3.113128e-01</td>\n",
       "      <td>3.699312e-01</td>\n",
       "      <td>3.530142e-01</td>\n",
       "      <td>3.098679e-01</td>\n",
       "      <td>3.198950e-01</td>\n",
       "    </tr>\n",
       "  </tbody>\n",
       "</table>\n",
       "<p>8 rows × 100 columns</p>\n",
       "</div>"
      ],
      "text/plain": [
       "                 0             1             2             3             4   \\\n",
       "count  6.891500e+04  6.891500e+04  6.891500e+04  6.891500e+04  6.891500e+04   \n",
       "mean  -1.153781e-17 -1.290535e-17 -1.917953e-17 -6.627346e-17  6.254620e-18   \n",
       "std    1.950897e-01  1.590474e-01  1.369968e-01  1.358105e-01  1.141507e-01   \n",
       "min   -4.047850e-01 -6.173520e-01 -2.803340e-01 -2.071566e-01 -2.471450e-01   \n",
       "25%   -9.586957e-02 -2.203766e-02 -7.225969e-02 -1.034573e-01 -4.594710e-02   \n",
       "50%   -7.870482e-02  1.543027e-02  1.055680e-03 -3.106459e-02 -3.004105e-02   \n",
       "75%    1.431100e-01  3.545562e-02  8.604402e-03  5.904711e-02 -1.501278e-03   \n",
       "max    7.854389e-01  7.017540e-01  9.202597e-01  6.233216e-01  8.853584e-01   \n",
       "\n",
       "                 5             6             7             8             9   \\\n",
       "count  6.891500e+04  6.891500e+04  6.891500e+04  6.891500e+04  6.891500e+04   \n",
       "mean   1.124638e-17 -8.498345e-18 -9.495934e-18 -2.757494e-17  2.646587e-17   \n",
       "std    8.879627e-02  8.734577e-02  8.456928e-02  8.238493e-02  8.111299e-02   \n",
       "min   -6.575909e-01 -2.324770e-01 -3.536233e-01 -2.841815e-01 -1.439603e-01   \n",
       "25%   -7.450064e-03 -2.926973e-02 -1.967890e-02 -2.138716e-02 -2.390022e-02   \n",
       "50%   -1.277166e-03 -3.984634e-03  8.241289e-04 -9.805405e-03 -1.162660e-02   \n",
       "75%    2.889492e-03  3.547881e-03  1.309086e-02  1.081014e-03  3.084724e-03   \n",
       "max    7.033396e-01  7.496303e-01  8.292132e-01  8.534746e-01  9.130640e-01   \n",
       "\n",
       "       ...            90            91            92            93  \\\n",
       "count  ...  6.891500e+04  6.891500e+04  6.891500e+04  6.891500e+04   \n",
       "mean   ...  5.616159e-18 -7.270632e-18  5.948114e-18  1.501310e-17   \n",
       "std    ...  4.738233e-02  4.716471e-02  4.702977e-02  4.693216e-02   \n",
       "min    ... -2.991119e-01 -3.320737e-01 -2.053108e-01 -3.122777e-01   \n",
       "25%    ... -1.981344e-02 -1.965677e-02 -2.012634e-02 -1.816439e-02   \n",
       "50%    ... -2.484367e-03 -1.559305e-03 -3.563939e-03 -2.665563e-03   \n",
       "75%    ...  1.858706e-02  1.766055e-02  1.595138e-02  1.505745e-02   \n",
       "max    ...  3.185746e-01  3.367295e-01  5.350308e-01  4.238951e-01   \n",
       "\n",
       "                 94            95            96            97            98  \\\n",
       "count  6.891500e+04  6.891500e+04  6.891500e+04  6.891500e+04  6.891500e+04   \n",
       "mean  -5.708647e-19 -2.441935e-17  3.754462e-18 -1.188479e-17 -7.461822e-18   \n",
       "std    4.673696e-02  4.665133e-02  4.643933e-02  4.624147e-02  4.590046e-02   \n",
       "min   -2.928082e-01 -2.565591e-01 -3.145323e-01 -3.454734e-01 -2.535623e-01   \n",
       "25%   -1.905791e-02 -1.846860e-02 -1.625763e-02 -1.836368e-02 -1.810168e-02   \n",
       "50%   -5.081604e-04 -1.118077e-03  2.565205e-03  4.211355e-04  1.235113e-03   \n",
       "75%    1.688411e-02  1.987507e-02  1.829688e-02  1.865042e-02  1.774854e-02   \n",
       "max    3.370846e-01  3.113128e-01  3.699312e-01  3.530142e-01  3.098679e-01   \n",
       "\n",
       "                 99  \n",
       "count  6.891500e+04  \n",
       "mean   1.719229e-17  \n",
       "std    4.578942e-02  \n",
       "min   -2.768302e-01  \n",
       "25%   -1.975214e-02  \n",
       "50%   -1.083584e-03  \n",
       "75%    2.128431e-02  \n",
       "max    3.198950e-01  \n",
       "\n",
       "[8 rows x 100 columns]"
      ]
     },
     "execution_count": 448,
     "metadata": {},
     "output_type": "execute_result"
    }
   ],
   "source": [
    "pd.DataFrame(Z_train).describe()\n",
    "\n",
    "# column 0 is the first principal component"
   ]
  },
  {
   "cell_type": "code",
   "execution_count": 449,
   "metadata": {},
   "outputs": [
    {
     "name": "stdout",
     "output_type": "stream",
     "text": [
      "Explained variance: [0.041 0.027 0.02  0.02  0.014 0.009 0.008 0.008 0.007 0.007 0.007 0.006\n",
      " 0.006 0.006 0.006 0.006 0.006 0.006 0.006 0.006 0.006 0.005 0.005 0.005\n",
      " 0.005 0.005 0.005 0.005 0.005 0.004 0.004 0.004 0.004 0.004 0.004 0.004\n",
      " 0.004 0.004 0.004 0.004 0.004 0.004 0.004 0.004 0.004 0.004 0.004 0.004\n",
      " 0.004 0.004 0.004 0.003 0.003 0.003 0.003 0.003 0.003 0.003 0.003 0.003\n",
      " 0.003 0.003 0.003 0.003 0.003 0.003 0.003 0.003 0.003 0.003 0.003 0.003\n",
      " 0.003 0.003 0.003 0.003 0.003 0.003 0.003 0.003 0.003 0.003 0.003 0.003\n",
      " 0.003 0.003 0.003 0.002 0.002 0.002 0.002 0.002 0.002 0.002 0.002 0.002\n",
      " 0.002 0.002 0.002 0.002]\n",
      "Cumulative explained variance: [0.041 0.069 0.089 0.109 0.123 0.132 0.14  0.148 0.155 0.162 0.169 0.175\n",
      " 0.182 0.188 0.194 0.2   0.206 0.212 0.217 0.223 0.229 0.234 0.239 0.244\n",
      " 0.249 0.254 0.258 0.263 0.268 0.272 0.276 0.281 0.285 0.29  0.294 0.298\n",
      " 0.302 0.306 0.31  0.314 0.318 0.322 0.326 0.33  0.334 0.338 0.341 0.345\n",
      " 0.349 0.352 0.356 0.359 0.362 0.366 0.369 0.372 0.376 0.379 0.382 0.385\n",
      " 0.389 0.392 0.395 0.398 0.401 0.404 0.407 0.41  0.412 0.415 0.418 0.421\n",
      " 0.424 0.427 0.429 0.432 0.435 0.438 0.44  0.443 0.446 0.448 0.451 0.453\n",
      " 0.456 0.458 0.461 0.463 0.466 0.468 0.471 0.473 0.476 0.478 0.48  0.483\n",
      " 0.485 0.487 0.49  0.492]\n"
     ]
    }
   ],
   "source": [
    "var_exp = pca.explained_variance_ratio_\n",
    "print(f'Explained variance: {np.round(var_exp,3)}')\n",
    "\n",
    "cum_var_exp = np.cumsum(var_exp)\n",
    "print(f'Cumulative explained variance: {np.round(cum_var_exp,3)}')"
   ]
  },
  {
   "cell_type": "code",
   "execution_count": 450,
   "metadata": {},
   "outputs": [
    {
     "data": {
      "image/png": "[encoded data removed]",
      "text/plain": [
       "<Figure size 648x504 with 1 Axes>"
      ]
     },
     "metadata": {
      "needs_background": "light"
     },
     "output_type": "display_data"
    }
   ],
   "source": [
    "plt.figure(figsize=(9,7))\n",
    "\n",
    "# Plot the explained variance\n",
    "component_number = range(len(var_exp))\n",
    "plt.plot(component_number, var_exp, lw=3)\n",
    "\n",
    "# Add horizontal lines at y=0 and y=100\n",
    "plt.axhline(y=0, linewidth=1, color='grey', ls='dashed')\n",
    "plt.axhline(y=1, linewidth=1, color='grey', ls='dashed')\n",
    "\n",
    "# Set the x and y axis limits\n",
    "ax = plt.gca()\n",
    "ax.set_xlim([-1,26])\n",
    "ax.set_ylim([-0.05,1.05])\n",
    "\n",
    "# Label the axes\n",
    "ax.set_ylabel('variance explained', fontsize=16)\n",
    "ax.set_xlabel('component', fontsize=16)\n",
    "\n",
    "# Make the tick labels bigger\n",
    "for tick in ax.xaxis.get_major_ticks():\n",
    "    tick.label.set_fontsize(12) \n",
    "for tick in ax.yaxis.get_major_ticks():\n",
    "    tick.label.set_fontsize(12) \n",
    "    \n",
    "# Add title\n",
    "ax.set_title('Component vs Variance Explained\\n', fontsize=20)\n",
    "\n",
    "plt.show()"
   ]
  },
  {
   "cell_type": "code",
   "execution_count": 451,
   "metadata": {},
   "outputs": [
    {
     "data": {
      "image/png": "[encoded data removed]",
      "text/plain": [
       "<Figure size 648x504 with 1 Axes>"
      ]
     },
     "metadata": {
      "needs_background": "light"
     },
     "output_type": "display_data"
    }
   ],
   "source": [
    "plt.figure(figsize=(9,7))\n",
    "\n",
    "# Plot the cumulative explained variance\n",
    "component_number = range(len(cum_var_exp))\n",
    "plt.plot(component_number, cum_var_exp, lw=3)\n",
    "\n",
    "# Add horizontal lines at y=0 and y=100\n",
    "plt.axhline(y=0, linewidth=1, color='grey', ls='dashed')\n",
    "plt.axhline(y=1, linewidth=1, color='grey', ls='dashed')\n",
    "\n",
    "# Set the x and y axis limits\n",
    "ax = plt.gca()\n",
    "ax.set_xlim([-1,26])\n",
    "ax.set_ylim([-0.05,1.05])\n",
    "\n",
    "# Label the axes\n",
    "ax.set_ylabel('cumulative variance explained', fontsize=16)\n",
    "ax.set_xlabel('component', fontsize=16)\n",
    "\n",
    "# Make the tick labels bigger\n",
    "for tick in ax.xaxis.get_major_ticks():\n",
    "    tick.label.set_fontsize(12) \n",
    "for tick in ax.yaxis.get_major_ticks():\n",
    "    tick.label.set_fontsize(12) \n",
    "    \n",
    "# Add title\n",
    "ax.set_title('Component vs Cumulative variance explained\\n', fontsize=20)\n",
    "\n",
    "plt.show()"
   ]
  },
  {
   "cell_type": "code",
   "execution_count": 452,
   "metadata": {},
   "outputs": [
    {
     "name": "stderr",
     "output_type": "stream",
     "text": [
      "/Users/jameslee/anaconda3/lib/python3.6/site-packages/sklearn/linear_model/logistic.py:433: FutureWarning: Default solver will be changed to 'lbfgs' in 0.22. Specify a solver to silence this warning.\n",
      "  FutureWarning)\n"
     ]
    },
    {
     "name": "stdout",
     "output_type": "stream",
     "text": [
      "Training Score: 0.8398.\n",
      "Testing Score: 0.8415.\n"
     ]
    }
   ],
   "source": [
    "# Instantiate linear regression model.\n",
    "logreg = LogisticRegression()\n",
    "\n",
    "# Fit on X_train.\n",
    "logreg.fit(X_train_tfidf, y_train)\n",
    "\n",
    "# Score on training and testing sets.\n",
    "print(f'Training Score: {round(logreg.score((X_train_tfidf), y_train),4)}.')\n",
    "print(f'Testing Score: {round(logreg.score((X_test_tfidf), y_test),4)}.')"
   ]
  },
  {
   "cell_type": "code",
   "execution_count": 453,
   "metadata": {},
   "outputs": [
    {
     "name": "stderr",
     "output_type": "stream",
     "text": [
      "/Users/jameslee/anaconda3/lib/python3.6/site-packages/sklearn/linear_model/logistic.py:433: FutureWarning: Default solver will be changed to 'lbfgs' in 0.22. Specify a solver to silence this warning.\n",
      "  FutureWarning)\n"
     ]
    },
    {
     "name": "stdout",
     "output_type": "stream",
     "text": [
      "Training Score: 0.8136.\n",
      "Testing Score: 0.8152.\n"
     ]
    }
   ],
   "source": [
    "# Instantiate linear regression model.\n",
    "logreg = LogisticRegression()\n",
    "\n",
    "# Transform Z_train and Z_test.\n",
    "Z_train = pca.fit_transform(X_train_array)\n",
    "Z_test = pca.transform(X_test_array)\n",
    "\n",
    "# Fit on Z_train.\n",
    "logreg.fit(Z_train, y_train)\n",
    "\n",
    "# Score on training and testing sets.\n",
    "print(f'Training Score: {round(logreg.score((Z_train), y_train),4)}.')\n",
    "print(f'Testing Score: {round(logreg.score((Z_test), y_test),4)}.')"
   ]
  },
  {
   "cell_type": "code",
   "execution_count": null,
   "metadata": {},
   "outputs": [],
   "source": []
  }
 ],
 "metadata": {
  "kernelspec": {
   "display_name": "Python 3",
   "language": "python",
   "name": "python3"
  },
  "language_info": {
   "codemirror_mode": {
    "name": "ipython",
    "version": 3
   },
   "file_extension": ".py",
   "mimetype": "text/x-python",
   "name": "python",
   "nbconvert_exporter": "python",
   "pygments_lexer": "ipython3",
   "version": "3.6.8"
  }
 },
 "nbformat": 4,
 "nbformat_minor": 2
}
